{
 "cells": [
  {
   "cell_type": "markdown",
   "id": "f11beb36-c1ac-44fa-95ed-48a484c476bb",
   "metadata": {},
   "source": [
    "# Break\n",
    "## Terminates a for or while loop."
   ]
  },
  {
   "cell_type": "code",
   "execution_count": 22,
   "id": "2c3b86bf-3b87-4d7b-8c6e-4a54ec5b5dd2",
   "metadata": {},
   "outputs": [
    {
     "name": "stdout",
     "output_type": "stream",
     "text": [
      "Total weight: 211\n",
      "Items in the manifest: ['bananas', 'matt', 'dog kennels', 'machine']\n"
     ]
    }
   ],
   "source": [
    "# Given list of cargo items and their weights\n",
    "manifest = [('bananas', 15), ('matt', 34), ('dog kennels', 42), ('machine', 120), ('chesses', 5)]\n",
    "\n",
    "# Initialize variables\n",
    "weight = 0\n",
    "items = []\n",
    "\n",
    "# Iterate through each cargo in the manifest\n",
    "for cargo in manifest:\n",
    "    # Check if the total weight exceeds 100\n",
    "    if weight > 100:\n",
    "        break\n",
    "    else:\n",
    "        # Add the name of the cargo item to the list\n",
    "        items.append(cargo[0])\n",
    "        # Update the total weight\n",
    "        weight += cargo[1]\n",
    "\n",
    "# Print the final total weight and the list of items\n",
    "print(\"Total weight:\", weight)\n",
    "print(\"Items in the manifest:\", items)"
   ]
  },
  {
   "cell_type": "markdown",
   "id": "06a99069-22b7-4e4e-8acd-f727c9b173ea",
   "metadata": {},
   "source": [
    "# Continue\n",
    "## Terminates one iteration of a for or while loop."
   ]
  },
  {
   "cell_type": "code",
   "execution_count": 24,
   "id": "92b6b80e-d9ee-4574-8014-8b7da22ef282",
   "metadata": {},
   "outputs": [
    {
     "name": "stdout",
     "output_type": "stream",
     "text": [
      "Found a Fruit!\n",
      "Found a Fruit!\n",
      "Not a Fruit!\n",
      "Not a Fruit!\n",
      "Total Fruits: 2\n"
     ]
    }
   ],
   "source": [
    "# Given lists of fruits and foods\n",
    "fruit = ['orange', 'strawberry', 'apple']\n",
    "foods = ['apple', 'strawberry', 'hummus', 'toast']\n",
    "\n",
    "# Initialize a counter for fruits\n",
    "fruit_count = 0\n",
    "\n",
    "# Iterate through each food item\n",
    "for food in foods:\n",
    "    # Check if the food is not in the fruit list\n",
    "    if food not in fruit:\n",
    "        print('Not a Fruit!')  # Print a message\n",
    "        continue  # Skip to the next iteration\n",
    "    else:\n",
    "        # If it's a fruit, increment the fruit count\n",
    "        fruit_count += 1\n",
    "        print('Found a Fruit!')  # Print a message\n",
    "\n",
    "# Print the total number of fruits found\n",
    "print('Total Fruits:', fruit_count)"
   ]
  }
 ],
 "metadata": {
  "kernelspec": {
   "display_name": "example",
   "language": "python",
   "name": "example"
  },
  "language_info": {
   "codemirror_mode": {
    "name": "ipython",
    "version": 3
   },
   "file_extension": ".py",
   "mimetype": "text/x-python",
   "name": "python",
   "nbconvert_exporter": "python",
   "pygments_lexer": "ipython3",
   "version": "3.12.2"
  }
 },
 "nbformat": 4,
 "nbformat_minor": 5
}
