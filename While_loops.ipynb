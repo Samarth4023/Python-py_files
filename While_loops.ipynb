{
 "cells": [
  {
   "cell_type": "markdown",
   "id": "fc26f2dc-0a0b-4e78-848b-e7b062fbdca6",
   "metadata": {},
   "source": [
    "# While Loops"
   ]
  },
  {
   "cell_type": "code",
   "execution_count": 25,
   "id": "abdb8c72-8ed0-43c7-8cbd-02bc5c242e34",
   "metadata": {},
   "outputs": [
    {
     "name": "stdout",
     "output_type": "stream",
     "text": [
      "[10]\n",
      "[10, 2]\n",
      "[10, 2, 6]\n"
     ]
    }
   ],
   "source": [
    "# Create a list representing a deck of cards\n",
    "card_deck = [4, 11, 8, 8, 13, 6, 2, 10]\n",
    "\n",
    "# Initialize an empty list to represent the player's hand\n",
    "hand = []\n",
    "\n",
    "# Keep drawing cards from the deck until the sum of the hand is less than 17\n",
    "while sum(hand) < 17:\n",
    "    # Remove the last card from the deck and add it to the hand\n",
    "    hand.append(card_deck.pop())\n",
    "    # Print the current hand\n",
    "    print(hand)"
   ]
  },
  {
   "cell_type": "markdown",
   "id": "d7539bb1-2d20-4c8e-8358-b058ef53710d",
   "metadata": {},
   "source": [
    "### NOTE: The indented body of the loop should modify atleast one variable in the test condition. If the value of the test condition never changes, the result is a infinite loop"
   ]
  }
 ],
 "metadata": {
  "kernelspec": {
   "display_name": "example",
   "language": "python",
   "name": "example"
  },
  "language_info": {
   "codemirror_mode": {
    "name": "ipython",
    "version": 3
   },
   "file_extension": ".py",
   "mimetype": "text/x-python",
   "name": "python",
   "nbconvert_exporter": "python",
   "pygments_lexer": "ipython3",
   "version": "3.12.2"
  }
 },
 "nbformat": 4,
 "nbformat_minor": 5
}
