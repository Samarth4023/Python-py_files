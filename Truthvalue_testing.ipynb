{
 "cells": [
  {
   "cell_type": "markdown",
   "id": "9b312377-fdfd-465a-b77b-6f1c9751b450",
   "metadata": {},
   "source": [
    "# Truth Value Testing"
   ]
  },
  {
   "cell_type": "markdown",
   "id": "2a02bd10-ae3e-4b24-8360-0980a66355f8",
   "metadata": {},
   "source": [
    "#### If we use non-boolean object as a condition in an if statement in place of the boolean expression, Python will check for its truth value and use that to decide whether or not to run the indented code. By default, the truth value of a object in python is considered true unless specified false in the documentation"
   ]
  },
  {
   "cell_type": "markdown",
   "id": "296c09cc-34b8-4e78-b21b-a9a27a722b87",
   "metadata": {},
   "source": [
    "### Here are the most of the built-in objects that are considered false in python.\n",
    "### --constants defined to be false: None and False\n",
    "### --zero of any numeric type: 0, 0.0, 0j, Decimal(0), Fraction (0, 1)\n",
    "### --empty sequences and collections: \" \", (), [], {}, set(), range(0)"
   ]
  },
  {
   "cell_type": "code",
   "execution_count": 7,
   "id": "b0bbfd95-1130-4f30-b789-ec99397df77a",
   "metadata": {},
   "outputs": [
    {
     "name": "stdout",
     "output_type": "stream",
     "text": [
      "Congratulations! You won a Wafer-thin mint\n"
     ]
    }
   ],
   "source": [
    "points = 174\n",
    "prize = None        # default to none\n",
    "\n",
    "# use the value of points to assign prize\n",
    "if points <=50:\n",
    "    prize = \"Wooden Rabbit\"\n",
    "elif 151 <= points <= 180:\n",
    "    prize = \"Wafer-thin mint\"\n",
    "elif points >=181:\n",
    "    prize = \"Penguin\"\n",
    "\n",
    "#use the value of points to assign result\n",
    "if prize:\n",
    "    result = 'Congratulations! You won a {}'.format(prize)\n",
    "else:\n",
    "    result = 'Oh Dear ! No prize this time.'\n",
    "\n",
    "print(result)"
   ]
  }
 ],
 "metadata": {
  "kernelspec": {
   "display_name": "example",
   "language": "python",
   "name": "example"
  },
  "language_info": {
   "codemirror_mode": {
    "name": "ipython",
    "version": 3
   },
   "file_extension": ".py",
   "mimetype": "text/x-python",
   "name": "python",
   "nbconvert_exporter": "python",
   "pygments_lexer": "ipython3",
   "version": "3.12.2"
  }
 },
 "nbformat": 4,
 "nbformat_minor": 5
}
