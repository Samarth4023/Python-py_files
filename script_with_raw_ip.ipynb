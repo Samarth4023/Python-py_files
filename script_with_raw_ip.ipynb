{
 "cells": [
  {
   "cell_type": "code",
   "execution_count": 2,
   "id": "4ba4353a-57cd-4a5e-acf2-79afc6d13964",
   "metadata": {},
   "outputs": [
    {
     "name": "stdin",
     "output_type": "stream",
     "text": [
      "Enter your name:  Samarth Ashok Pujari\n"
     ]
    },
    {
     "name": "stdout",
     "output_type": "stream",
     "text": [
      "Samarth Ashok Pujari\n"
     ]
    }
   ],
   "source": [
    "name = input(\"Enter your name: \")\n",
    "print(name)"
   ]
  },
  {
   "cell_type": "code",
   "execution_count": 4,
   "id": "3f2d0cee-ede1-4063-a76c-d81160952c04",
   "metadata": {},
   "outputs": [
    {
     "name": "stdin",
     "output_type": "stream",
     "text": [
      "Enter your Age:  22\n"
     ]
    },
    {
     "name": "stdout",
     "output_type": "stream",
     "text": [
      "22\n"
     ]
    }
   ],
   "source": [
    "name = int(input(\"Enter your Age: \"))\n",
    "print(name)"
   ]
  },
  {
   "cell_type": "code",
   "execution_count": 3,
   "id": "0303d0db-ddec-4b50-a133-1967991b7ac8",
   "metadata": {},
   "outputs": [
    {
     "name": "stdin",
     "output_type": "stream",
     "text": [
      "Enter Any Expression:  25+25\n"
     ]
    },
    {
     "name": "stdout",
     "output_type": "stream",
     "text": [
      "50\n"
     ]
    }
   ],
   "source": [
    "result = eval(input(\"Enter Any Expression: \"))\n",
    "print(result)"
   ]
  },
  {
   "cell_type": "markdown",
   "id": "4a4a595f-b3f4-4421-84ae-eb70e37952ec",
   "metadata": {},
   "source": [
    "# Generate Messages"
   ]
  },
  {
   "cell_type": "code",
   "execution_count": 11,
   "id": "979f0eb9-00e7-429d-95ba-cafbd6d3ecd7",
   "metadata": {},
   "outputs": [
    {
     "name": "stdin",
     "output_type": "stream",
     "text": [
      "Enter Student Name:  sam,ram,tom,jeff\n",
      "Enter missing assignments counts:  3,4,5,6\n",
      "Enter Grade:  70,50,60,80\n"
     ]
    },
    {
     "name": "stdout",
     "output_type": "stream",
     "text": [
      "Hi Sam,\n",
      "\n",
      "This is a reminder that you have 3 assignments left to submit before you can graduate. You're current grade is 70 and can increase to 76 if you submit all assignments before the due date.\n",
      "\n",
      "\n",
      "Hi Ram,\n",
      "\n",
      "This is a reminder that you have 4 assignments left to submit before you can graduate. You're current grade is 50 and can increase to 58 if you submit all assignments before the due date.\n",
      "\n",
      "\n",
      "Hi Tom,\n",
      "\n",
      "This is a reminder that you have 5 assignments left to submit before you can graduate. You're current grade is 60 and can increase to 70 if you submit all assignments before the due date.\n",
      "\n",
      "\n",
      "Hi Jeff,\n",
      "\n",
      "This is a reminder that you have 6 assignments left to submit before you can graduate. You're current grade is 80 and can increase to 92 if you submit all assignments before the due date.\n",
      "\n",
      "\n"
     ]
    }
   ],
   "source": [
    "names = input(\"Enter Student Name: \").title().split(\",\")\n",
    "assignments = input(\"Enter missing assignments counts: \").split(\",\")\n",
    "grades = input(\"Enter Grade: \").split(\",\")\n",
    "message = \"Hi {},\\n\\nThis is a reminder that you have {} assignments left to submit before you can graduate. You're current grade is {} and can increase to {} if you submit all assignments before the due date.\\n\\n\"\n",
    "\n",
    "for name, assignment, grade in zip(names, assignments, grades):\n",
    "    print(message.format(name, assignment, grade, int(grade) + int(assignment)*2))"
   ]
  },
  {
   "cell_type": "code",
   "execution_count": null,
   "id": "299b150e-ad75-4ede-915a-7c4d33bf8a31",
   "metadata": {},
   "outputs": [],
   "source": []
  }
 ],
 "metadata": {
  "kernelspec": {
   "display_name": "example",
   "language": "python",
   "name": "example"
  },
  "language_info": {
   "codemirror_mode": {
    "name": "ipython",
    "version": 3
   },
   "file_extension": ".py",
   "mimetype": "text/x-python",
   "name": "python",
   "nbconvert_exporter": "python",
   "pygments_lexer": "ipython3",
   "version": "3.12.2"
  }
 },
 "nbformat": 4,
 "nbformat_minor": 5
}
