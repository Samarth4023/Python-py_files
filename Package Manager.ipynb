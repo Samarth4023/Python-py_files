{
 "cells": [
  {
   "cell_type": "markdown",
   "id": "b92af0e4-cfcb-4a8c-96d6-9070eb0292b8",
   "metadata": {},
   "source": [
    "# Package Manager"
   ]
  },
  {
   "cell_type": "code",
   "execution_count": 3,
   "id": "8cbc71a6-e33c-407d-b683-055719525d41",
   "metadata": {},
   "outputs": [
    {
     "name": "stdout",
     "output_type": "stream",
     "text": [
      "Time zone for IST: Asia/Kolkata\n",
      "Current time in IST: 2024-06-06 09:39:40.667871+05:30\n"
     ]
    }
   ],
   "source": [
    "# Import necessary modules\n",
    "from datetime import datetime\n",
    "import pytz\n",
    "\n",
    "# Define the UTC and IST time zones\n",
    "utc = pytz.utc\n",
    "ist = pytz.timezone(\"Asia/Kolkata\")\n",
    "\n",
    "# Get the current time in UTC\n",
    "now = datetime.now(tz=utc)\n",
    "\n",
    "# Convert the UTC time to IST\n",
    "ist_now = now.astimezone(ist)\n",
    "\n",
    "# Print the time zone information and the converted time\n",
    "print(\"Time zone for IST:\", ist)\n",
    "print(\"Current time in IST:\", ist_now)"
   ]
  }
 ],
 "metadata": {
  "kernelspec": {
   "display_name": "example",
   "language": "python",
   "name": "example"
  },
  "language_info": {
   "codemirror_mode": {
    "name": "ipython",
    "version": 3
   },
   "file_extension": ".py",
   "mimetype": "text/x-python",
   "name": "python",
   "nbconvert_exporter": "python",
   "pygments_lexer": "ipython3",
   "version": "3.12.2"
  }
 },
 "nbformat": 4,
 "nbformat_minor": 5
}
