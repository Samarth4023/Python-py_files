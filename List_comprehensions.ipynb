{
 "cells": [
  {
   "cell_type": "markdown",
   "id": "c62e3b0e-4c1b-46e4-a58a-55d460bb914d",
   "metadata": {},
   "source": [
    "# List Comprehensions"
   ]
  },
  {
   "cell_type": "code",
   "execution_count": 6,
   "id": "13386bc2-95b1-44b7-b464-a2c4c3c3e0fa",
   "metadata": {},
   "outputs": [
    {
     "name": "stdout",
     "output_type": "stream",
     "text": [
      "['New York City', 'Mountain View', 'Chicago', 'Los Angeles']\n"
     ]
    }
   ],
   "source": [
    "# Given a list of cities\n",
    "cities = ['new york city', 'mountain view', 'chicago', 'los angeles']\n",
    "\n",
    "# Create a new list with capitalized versions of the city names\n",
    "capitalized_cities = [city.title() for city in cities]\n",
    "\n",
    "# Print the capitalized city names\n",
    "print(capitalized_cities)"
   ]
  },
  {
   "cell_type": "markdown",
   "id": "09cc021d-9330-456d-a7a9-afde6f4adecc",
   "metadata": {},
   "source": [
    "## Example with conditions also."
   ]
  },
  {
   "cell_type": "code",
   "execution_count": 20,
   "id": "b78f18cd-b77c-4bf4-8816-d3bc24157c7d",
   "metadata": {},
   "outputs": [
    {
     "name": "stdout",
     "output_type": "stream",
     "text": [
      "[0, 1, 4, 9, 16, 25, 36, 49, 64]\n",
      "[0, 1, 4, 9, 16, 25, 36, 49, 64]\n",
      "[0, 4, 16, 36, 64]\n",
      "[0, 4, 4, 6, 16, 8, 36, 10, 64]\n"
     ]
    }
   ],
   "source": [
    "# Not List Comprehension\n",
    "squares = []\n",
    "for x in range(9):\n",
    "    squares.append(x**2)\n",
    "print(squares)\n",
    "\n",
    "# List Comprehension\n",
    "squares = [x**2 for x in range(9)]\n",
    "print(squares)\n",
    "\n",
    "# squares of only even numbers.\n",
    "squares = [x**2 for x in range(9) if x%2==0]\n",
    "print(squares)\n",
    "\n",
    "# another one :)\n",
    "squares = [x**2 if x%2==0 else x + 3 for x in range(9) ]\n",
    "print(squares)"
   ]
  },
  {
   "cell_type": "markdown",
   "id": "03a2cff5-2d30-4a72-b47c-920e20c13be1",
   "metadata": {},
   "source": [
    "### List Comprehensions are very cool tool provided from python because we can create lists really quickly and concisely."
   ]
  },
  {
   "cell_type": "markdown",
   "id": "bab48c88-5009-4bee-b4e2-caf68d7a644c",
   "metadata": {},
   "source": [
    "## 1) Extract First Name"
   ]
  },
  {
   "cell_type": "code",
   "execution_count": 14,
   "id": "cd427e06-66de-4130-8133-53377da478be",
   "metadata": {},
   "outputs": [
    {
     "name": "stdout",
     "output_type": "stream",
     "text": [
      "['rick', 'morthy', 'summer', 'jerry', 'beth']\n"
     ]
    }
   ],
   "source": [
    "# Given a list of full names\n",
    "names = ['Rick Sanchez', 'Morthy Smith', 'Summer Smith', 'Jerry Smith', 'Beth Smith']\n",
    "\n",
    "# Extract the first names (lowercased) from the full names\n",
    "first_names = [name.split()[0].lower() for name in names]\n",
    "\n",
    "# Print the resulting list of first names\n",
    "print(first_names)"
   ]
  },
  {
   "cell_type": "markdown",
   "id": "031ebd7c-ef29-421f-9ef1-6a1b79b54031",
   "metadata": {},
   "source": [
    "## 2) Multiples of Three (3)"
   ]
  },
  {
   "cell_type": "code",
   "execution_count": 16,
   "id": "ce5976b3-926e-4fb5-8a22-9137047acd86",
   "metadata": {},
   "outputs": [
    {
     "name": "stdout",
     "output_type": "stream",
     "text": [
      "[3, 6, 9, 12, 15, 18, 21, 24, 27, 30, 33, 36, 39, 42, 45, 48, 51, 54, 57, 60]\n"
     ]
    }
   ],
   "source": [
    "# Create a list of multiples of 3\n",
    "multiplier_3 = [x * 3 for x in range(1, 21)]\n",
    "\n",
    "# Print the resulting list\n",
    "print(multiplier_3)"
   ]
  },
  {
   "cell_type": "markdown",
   "id": "dc9e78df-f609-46e2-adc6-94767858644e",
   "metadata": {},
   "source": [
    "## 3) Filter names by zero"
   ]
  },
  {
   "cell_type": "code",
   "execution_count": 18,
   "id": "e984ee5b-2ee2-47e2-af47-93a4775298b8",
   "metadata": {},
   "outputs": [
    {
     "name": "stdout",
     "output_type": "stream",
     "text": [
      "['Rick Sanchez', 'Summer Smith', 'Beth Smith']\n"
     ]
    }
   ],
   "source": [
    "# Given a dictionary of student scores\n",
    "scores = {'Rick Sanchez': 70, 'Morthy Smith': 35, 'Summer Smith': 82, 'Jerry Smith': 23, 'Beth Smith': 98}\n",
    "\n",
    "# Create a list of names for students who passed (score >= 65)\n",
    "passed = [name for name, score in scores.items() if score >= 65]\n",
    "\n",
    "# Print the list of passed students\n",
    "print(passed)"
   ]
  }
 ],
 "metadata": {
  "kernelspec": {
   "display_name": "example",
   "language": "python",
   "name": "example"
  },
  "language_info": {
   "codemirror_mode": {
    "name": "ipython",
    "version": 3
   },
   "file_extension": ".py",
   "mimetype": "text/x-python",
   "name": "python",
   "nbconvert_exporter": "python",
   "pygments_lexer": "ipython3",
   "version": "3.12.2"
  }
 },
 "nbformat": 4,
 "nbformat_minor": 5
}
