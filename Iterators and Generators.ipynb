{
 "cells": [
  {
   "cell_type": "markdown",
   "id": "2e097ebd-622a-4ac9-9149-e6273ef7f4c8",
   "metadata": {},
   "source": [
    "# Iterators\n",
    "### An Iterator is an object that represents a stream of data."
   ]
  },
  {
   "cell_type": "markdown",
   "id": "765f67c9-a4d1-4a76-b802-d03ffd44cdac",
   "metadata": {},
   "source": [
    "# Generators\n",
    "### Generators are a simple way to create iterators using functions."
   ]
  },
  {
   "cell_type": "markdown",
   "id": "ed3e07f9-dbfb-40d5-a1c3-e2f3dbff23d7",
   "metadata": {},
   "source": [
    "# Generator Function"
   ]
  },
  {
   "cell_type": "code",
   "execution_count": 1,
   "id": "6139eec3-8540-4bba-9cde-86111d78711d",
   "metadata": {},
   "outputs": [
    {
     "name": "stdout",
     "output_type": "stream",
     "text": [
      "<generator object my_range at 0x00000205293BABC0>\n"
     ]
    }
   ],
   "source": [
    "# Define a custom generator function called \"my_range\"\n",
    "def my_range(x):\n",
    "    i = 0\n",
    "    while i < x:\n",
    "        yield i  # Yield the current value of 'i'\n",
    "        i += 1   # Increment 'i' by 1\n",
    "\n",
    "# Call the generator function with an argument of 4\n",
    "# This will create an iterator that generates values from 0 to 3\n",
    "print(my_range(4))"
   ]
  },
  {
   "cell_type": "code",
   "execution_count": 5,
   "id": "3f30bba9-d8d0-461f-82d6-e4f8db94248d",
   "metadata": {},
   "outputs": [
    {
     "name": "stdout",
     "output_type": "stream",
     "text": [
      "0\n",
      "1\n",
      "2\n",
      "3\n",
      "4\n"
     ]
    }
   ],
   "source": [
    "# Define a custom generator function called \"my_range\"\n",
    "def my_range(x):\n",
    "    i = 0\n",
    "    while i < x:\n",
    "        yield i  # Yield the current value of 'i'\n",
    "        i += 1   # Increment 'i' by 1\n",
    "\n",
    "# Call the generator function with an argument of 5\n",
    "# This will create an iterator that generates values from 0 to 4\n",
    "for x in my_range(5):\n",
    "    print(x)"
   ]
  },
  {
   "cell_type": "code",
   "execution_count": 7,
   "id": "44803e81-b47e-44a9-84d6-dd6314f896b8",
   "metadata": {},
   "outputs": [
    {
     "name": "stdout",
     "output_type": "stream",
     "text": [
      "Lesson 1: Why Python Programming\n",
      "Lesson 2: Data Types and Operators\n",
      "Lesson 3: Control Flow\n",
      "Lesson 4: Functions\n",
      "Lesson 5: Scripting\n"
     ]
    }
   ],
   "source": [
    "# Given a list of lessons\n",
    "lessons = [\"Why Python Programming\", \"Data Types and Operators\", \"Control Flow\", \"Functions\", \"Scripting\"]\n",
    "\n",
    "# Define a custom generator function called \"my_enumerate\"\n",
    "def my_enumerate(iterable, start=0):\n",
    "    # Initialize a counter\n",
    "    count = start\n",
    "    # Iterate through the elements in the iterable\n",
    "    for element in iterable:\n",
    "        # Yield the current count and the element\n",
    "        yield count, element\n",
    "        # Increment the count by 1\n",
    "        count += 1\n",
    "\n",
    "# Use the custom generator function to enumerate the lessons\n",
    "for i, lesson in my_enumerate(lessons, 1):\n",
    "    print(\"Lesson {}: {}\".format(i, lesson))"
   ]
  },
  {
   "cell_type": "markdown",
   "id": "df322ac8-7eaa-4968-8e4e-d4c31c1eb6a9",
   "metadata": {},
   "source": [
    "# Practice Quiz: Chunker"
   ]
  },
  {
   "cell_type": "code",
   "execution_count": 9,
   "id": "1deefd37-d20d-4aba-ad95-24db23627f70",
   "metadata": {},
   "outputs": [
    {
     "name": "stdout",
     "output_type": "stream",
     "text": [
      "[0, 1, 2, 3]\n",
      "[4, 5, 6, 7]\n",
      "[8, 9, 10, 11]\n",
      "[12, 13, 14, 15]\n",
      "[16, 17, 18, 19]\n",
      "[20, 21, 22, 23]\n",
      "[24]\n"
     ]
    }
   ],
   "source": [
    "# Define a generator function called \"chunker\"\n",
    "def chunker(iterable, size):\n",
    "    # Iterate through the iterable in chunks of the specified size\n",
    "    for i in range(0, len(iterable), size):\n",
    "        # Yield a slice of the iterable from index 'i' to 'i + size'\n",
    "        yield iterable[i:i + size]\n",
    "\n",
    "# Use the chunker generator function to split the range(25) into chunks of size 4\n",
    "for chunk in chunker(range(25), 4):\n",
    "    # Print each chunk as a list\n",
    "    print(list(chunk))"
   ]
  },
  {
   "cell_type": "markdown",
   "id": "e86d7932-3b05-4285-9dd2-80f80c74bb7f",
   "metadata": {},
   "source": [
    "# Why Generators ?\n",
    "### Generators are a lazy way to build iterables. They are useful when the fully realized list would not fit in memory, or when the cost to calculate each list element is high and you want to do it as late as possible. But they can only be iterated over once."
   ]
  },
  {
   "cell_type": "markdown",
   "id": "d01351e0-98f0-43d7-add0-58a78e27fa5a",
   "metadata": {},
   "source": [
    "# Generator Expressions\n",
    "### Cool concept of that combines generators and list comprehensions!\n",
    "### You can actually create a generator in the same way you'd normally write a list comprehension, except with parenthesis instead of square brackets."
   ]
  },
  {
   "cell_type": "code",
   "execution_count": 7,
   "id": "4d3e073f-2357-4029-8b83-89faf15fcdc3",
   "metadata": {},
   "outputs": [
    {
     "name": "stdout",
     "output_type": "stream",
     "text": [
      "[0, 1, 4, 9, 16, 25, 36, 49, 64, 81]\n"
     ]
    }
   ],
   "source": [
    "sq_list = [x ** 2 for x in range(10)]\n",
    "# this produces a list of squares\n",
    "print(sq_list)"
   ]
  },
  {
   "cell_type": "code",
   "execution_count": 11,
   "id": "90b83fb3-ab52-4385-b20c-a467105ebeda",
   "metadata": {},
   "outputs": [
    {
     "name": "stdout",
     "output_type": "stream",
     "text": [
      "<generator object <genexpr> at 0x0000020F8C69C110>\n"
     ]
    }
   ],
   "source": [
    "sq_iterator = (x ** 2 for x in range(10))\n",
    "# this produces an iterator of squares\n",
    "print(sq_iterator)"
   ]
  }
 ],
 "metadata": {
  "kernelspec": {
   "display_name": "example",
   "language": "python",
   "name": "example"
  },
  "language_info": {
   "codemirror_mode": {
    "name": "ipython",
    "version": 3
   },
   "file_extension": ".py",
   "mimetype": "text/x-python",
   "name": "python",
   "nbconvert_exporter": "python",
   "pygments_lexer": "ipython3",
   "version": "3.12.2"
  }
 },
 "nbformat": 4,
 "nbformat_minor": 5
}
