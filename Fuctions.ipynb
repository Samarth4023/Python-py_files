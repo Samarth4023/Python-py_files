{
 "cells": [
  {
   "cell_type": "markdown",
   "id": "3a044168-3010-4888-ab26-c31ea793b913",
   "metadata": {},
   "source": [
    "# Functions"
   ]
  },
  {
   "cell_type": "markdown",
   "id": "7e9b48da-1af8-4a48-a2de-1d833c6d7ee4",
   "metadata": {},
   "source": [
    "## - Functions are useful chunks of code that allow us to encapsulate a task.\n",
    "## * Encapsulation is a way to carry out a whole series of steps with one simple command.\n",
    "## - Functions are also used in to help organzie and optimize code."
   ]
  },
  {
   "cell_type": "code",
   "execution_count": 5,
   "id": "e831114a-bb54-416b-95e5-057e130b016b",
   "metadata": {},
   "outputs": [
    {
     "data": {
      "text/plain": [
       "282.7431"
      ]
     },
     "execution_count": 5,
     "metadata": {},
     "output_type": "execute_result"
    }
   ],
   "source": [
    "# Defining Functions\n",
    "def cylinder_volume(height, radius):\n",
    "    pi = 3.14159\n",
    "    return height * pi * radius ** 2\n",
    "cylinder_volume(10, 3)"
   ]
  },
  {
   "cell_type": "markdown",
   "id": "295b6a51-509f-4fc7-9df0-4c56357c90d3",
   "metadata": {},
   "source": [
    "## with no arguments"
   ]
  },
  {
   "cell_type": "code",
   "execution_count": 10,
   "id": "9c6b0f4a-5a77-4145-8ce5-783dda447dd5",
   "metadata": {},
   "outputs": [],
   "source": [
    "def print_greeting():\n",
    "    print('Hello World!')              # no return but still a valid function"
   ]
  },
  {
   "cell_type": "markdown",
   "id": "4169e768-4d76-4f34-92c1-75956a4f5d93",
   "metadata": {},
   "source": [
    "## Local Variable"
   ]
  },
  {
   "cell_type": "markdown",
   "id": "beba98c3-e614-4fd9-bff0-0780d3d47175",
   "metadata": {},
   "source": [
    "### - It can be only used within the body of a function"
   ]
  },
  {
   "cell_type": "code",
   "execution_count": null,
   "id": "cdd418e4-8e9d-40ed-ae52-2dd6cc52c230",
   "metadata": {},
   "outputs": [],
   "source": []
  },
  {
   "cell_type": "markdown",
   "id": "68429196-16f7-49c0-8ad2-484342cbfa2e",
   "metadata": {},
   "source": [
    "## Return Keyword"
   ]
  },
  {
   "cell_type": "markdown",
   "id": "f99e1429-bf91-45b1-927c-db3c94448b55",
   "metadata": {},
   "source": [
    "### Used to give back an output value when the function is called\n",
    "### - If there is no return statement, the function returns None.\n",
    "### - The value of the expresssion that follows return is the output of the function."
   ]
  },
  {
   "cell_type": "code",
   "execution_count": null,
   "id": "d391ef59-bafc-4ce9-9abb-3926d5405790",
   "metadata": {},
   "outputs": [],
   "source": [
    "volume = height * pi * radius ** 2\n",
    "return volume"
   ]
  },
  {
   "cell_type": "markdown",
   "id": "b9af8d25-4f77-4897-877a-b915c527b058",
   "metadata": {},
   "source": [
    "## Print as a function"
   ]
  },
  {
   "cell_type": "markdown",
   "id": "525555a5-75ee-42dd-bf9b-0c086dcd3f96",
   "metadata": {},
   "source": [
    "### - Print provides output to the console while return provides the value that you can store and work with and code later."
   ]
  },
  {
   "cell_type": "code",
   "execution_count": null,
   "id": "f7de90b6-a4c2-49ac-9dc5-94c43655a937",
   "metadata": {},
   "outputs": [],
   "source": []
  },
  {
   "cell_type": "markdown",
   "id": "a2760a76-09c6-423e-afff-bd94a8f9add1",
   "metadata": {},
   "source": [
    "## Variable Scope"
   ]
  },
  {
   "cell_type": "markdown",
   "id": "17dec959-4183-47f9-abb4-fd3e6599db3e",
   "metadata": {},
   "source": [
    "### - The parts of a program that a variable can be referenced, or used, from."
   ]
  },
  {
   "cell_type": "code",
   "execution_count": null,
   "id": "ddcd405d-3ef2-41a5-be83-5c01d14443e8",
   "metadata": {},
   "outputs": [],
   "source": []
  },
  {
   "cell_type": "markdown",
   "id": "1adf150b-7e3b-44c8-8ac0-be84ab8dbcc8",
   "metadata": {},
   "source": [
    "## Docstring (Documentation String)\n",
    "### - A type of comment used to explain the purpose of a function and how  it should be used."
   ]
  },
  {
   "cell_type": "code",
   "execution_count": null,
   "id": "d324909f-63e2-4404-aa45-6dda391b026b",
   "metadata": {},
   "outputs": [],
   "source": []
  }
 ],
 "metadata": {
  "kernelspec": {
   "display_name": "example",
   "language": "python",
   "name": "example"
  },
  "language_info": {
   "codemirror_mode": {
    "name": "ipython",
    "version": 3
   },
   "file_extension": ".py",
   "mimetype": "text/x-python",
   "name": "python",
   "nbconvert_exporter": "python",
   "pygments_lexer": "ipython3",
   "version": "3.12.2"
  }
 },
 "nbformat": 4,
 "nbformat_minor": 5
}
