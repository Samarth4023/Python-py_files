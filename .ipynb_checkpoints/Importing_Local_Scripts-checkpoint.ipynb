{
 "cells": [
  {
   "cell_type": "code",
   "execution_count": 1,
   "id": "10182dd4-1700-46a2-b2bc-a65191d31f80",
   "metadata": {},
   "outputs": [
    {
     "name": "stdout",
     "output_type": "stream",
     "text": [
      "4\n"
     ]
    }
   ],
   "source": [
    "# Import the module named \"other_script\"\n",
    "import other_script\n",
    "\n",
    "# Print the value of the variable \"rum\" from the imported module\n",
    "print(other_script.rum)"
   ]
  },
  {
   "cell_type": "markdown",
   "id": "5ea1f492-3087-474a-97d3-5b57df104bfe",
   "metadata": {},
   "source": [
    "# Try It Out!"
   ]
  },
  {
   "cell_type": "code",
   "execution_count": 3,
   "id": "8dc725c5-9ed1-40e0-a4c1-2c04a05eb16f",
   "metadata": {},
   "outputs": [
    {
     "name": "stdout",
     "output_type": "stream",
     "text": [
      "Scores: [88, 92, 79, 93, 85]\n",
      "Original Mean: 87.4  New Mean: 92.4\n",
      "__main__\n",
      "useful_functions\n"
     ]
    }
   ],
   "source": [
    "# Import the module named \"useful_functions\" and give it an alias \"uf\"\n",
    "import useful_functions as uf\n",
    "\n",
    "# Given a list of student scores\n",
    "scores = [88, 92, 79, 93, 85]\n",
    "\n",
    "# Calculate the mean of the original scores\n",
    "mean = uf.mean(scores)\n",
    "\n",
    "# Apply a curve by adding 5 to each score\n",
    "curved = uf.add_five(scores)\n",
    "\n",
    "# Calculate the mean of the curved scores\n",
    "mean_c = uf.mean(curved)\n",
    "\n",
    "# Print the original scores, original mean, and new mean\n",
    "print(\"Scores:\", scores)\n",
    "print(\"Original Mean:\", mean, \" New Mean:\", mean_c)\n",
    "\n",
    "# Print the value of the __name__ variable for the current module\n",
    "print(__name__)\n",
    "\n",
    "# Print the value of the __name__ variable for the imported module \"useful_functions\"\n",
    "print(uf.__name__)"
   ]
  },
  {
   "cell_type": "markdown",
   "id": "a745b21d-2123-438b-82e2-ad4e1a0c72b9",
   "metadata": {},
   "source": [
    "# useful_functions.py"
   ]
  },
  {
   "cell_type": "code",
   "execution_count": 5,
   "id": "4e340382-11ca-419f-87b7-650c6e8ebeb9",
   "metadata": {},
   "outputs": [
    {
     "name": "stdout",
     "output_type": "stream",
     "text": [
      "Testing mean function\n",
      "Testing add_five function\n",
      "All tests passed!\n"
     ]
    }
   ],
   "source": [
    "# Define a function to calculate the mean of a list of numbers\n",
    "def mean(num_list):\n",
    "    return sum(num_list) / len(num_list)\n",
    "\n",
    "# Define a function to add 5 to each element in a list\n",
    "def add_five(num_list):\n",
    "    return [n + 5 for n in num_list]\n",
    "\n",
    "# Main function for testing\n",
    "def main():\n",
    "    print(\"Testing mean function\")\n",
    "    n_list = [34, 44, 23, 46, 12, 24]\n",
    "    correct_mean = 30.5\n",
    "    assert(mean(n_list) == correct_mean)\n",
    "\n",
    "    print(\"Testing add_five function\")\n",
    "    correct_list = [39, 49, 28, 51, 17, 29]\n",
    "    assert(add_five(n_list) == correct_list)\n",
    "\n",
    "    print(\"All tests passed!\")\n",
    "\n",
    "# Execute the main function if this script is run directly\n",
    "if __name__ == '__main__':\n",
    "    main()"
   ]
  }
 ],
 "metadata": {
  "kernelspec": {
   "display_name": "example",
   "language": "python",
   "name": "example"
  },
  "language_info": {
   "codemirror_mode": {
    "name": "ipython",
    "version": 3
   },
   "file_extension": ".py",
   "mimetype": "text/x-python",
   "name": "python",
   "nbconvert_exporter": "python",
   "pygments_lexer": "ipython3",
   "version": "3.12.2"
  }
 },
 "nbformat": 4,
 "nbformat_minor": 5
}
