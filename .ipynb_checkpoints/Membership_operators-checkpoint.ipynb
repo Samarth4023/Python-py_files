{
 "cells": [
  {
   "cell_type": "markdown",
   "id": "2a8a4b77-28ba-4dc3-a4d6-e5902a9027a2",
   "metadata": {},
   "source": [
    "## in & not in "
   ]
  },
  {
   "cell_type": "code",
   "execution_count": 2,
   "id": "ffb46cad-bbfe-4bde-8961-6127de032769",
   "metadata": {},
   "outputs": [
    {
     "name": "stdout",
     "output_type": "stream",
     "text": [
      "True False\n"
     ]
    }
   ],
   "source": [
    "greeting = \"Hello There!\"\n",
    "print('her' in greeting, 'her' not in greeting)"
   ]
  }
 ],
 "metadata": {
  "kernelspec": {
   "display_name": "example",
   "language": "python",
   "name": "example"
  },
  "language_info": {
   "codemirror_mode": {
    "name": "ipython",
    "version": 3
   },
   "file_extension": ".py",
   "mimetype": "text/x-python",
   "name": "python",
   "nbconvert_exporter": "python",
   "pygments_lexer": "ipython3",
   "version": "3.12.2"
  }
 },
 "nbformat": 4,
 "nbformat_minor": 5
}
