{
 "cells": [
  {
   "cell_type": "markdown",
   "id": "c0ceae9c-51cb-4362-ab24-78e622639a33",
   "metadata": {},
   "source": [
    "# For Loops"
   ]
  },
  {
   "cell_type": "markdown",
   "id": "4e5f1e17-29c0-4c86-aea5-48a2ebb3a7ac",
   "metadata": {},
   "source": [
    "## Iterable: An object that can return one of its elements at a time."
   ]
  },
  {
   "cell_type": "code",
   "execution_count": 22,
   "id": "12ec1c0c-5735-4ebc-a363-1b37e888497d",
   "metadata": {},
   "outputs": [
    {
     "name": "stdout",
     "output_type": "stream",
     "text": [
      "Jan\n",
      "Feb\n",
      "Mar\n",
      "Apr\n",
      "May\n",
      "Jun\n",
      "Jul\n",
      "Aug\n",
      "Sep\n",
      "Oct\n",
      "Nov\n",
      "Dec\n"
     ]
    }
   ],
   "source": [
    "# Create a list of months\n",
    "months = ['jan','feb','mar','apr','may','jun','jul','aug','sep','oct','nov','dec']\n",
    "\n",
    "# Iterate through each month and print its title (capitalized)\n",
    "for month in months:\n",
    "    print(month.title())            # Convert the month name to title case"
   ]
  },
  {
   "cell_type": "code",
   "execution_count": 24,
   "id": "3e0e05f9-a708-490f-89e1-8c96d55521db",
   "metadata": {},
   "outputs": [
    {
     "name": "stdout",
     "output_type": "stream",
     "text": [
      "['Pune', 'Mumbai', 'New York', 'Jakarta']\n"
     ]
    }
   ],
   "source": [
    "# Create a list of cities\n",
    "cities = ['pune', 'mumbai', 'new york', 'jakarta']\n",
    "# Initialize an empty list to store capitalized city names\n",
    "capitalize_cities = []\n",
    "# Iterate through each city in the list\n",
    "for city in cities:\n",
    "    # Capitalize the first letter of each city name and add it to the new list\n",
    "    capitalize_cities.append(city.title())\n",
    "# Print the list of capitalized city names\n",
    "print(capitalize_cities)"
   ]
  }
 ],
 "metadata": {
  "kernelspec": {
   "display_name": "example",
   "language": "python",
   "name": "example"
  },
  "language_info": {
   "codemirror_mode": {
    "name": "ipython",
    "version": 3
   },
   "file_extension": ".py",
   "mimetype": "text/x-python",
   "name": "python",
   "nbconvert_exporter": "python",
   "pygments_lexer": "ipython3",
   "version": "3.12.2"
  }
 },
 "nbformat": 4,
 "nbformat_minor": 5
}
