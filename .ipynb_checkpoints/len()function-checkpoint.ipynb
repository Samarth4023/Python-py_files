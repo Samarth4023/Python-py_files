{
 "cells": [
  {
   "cell_type": "code",
   "execution_count": 4,
   "id": "2b151990-2dbb-49a7-9791-d229b455ecd7",
   "metadata": {},
   "outputs": [
    {
     "name": "stdout",
     "output_type": "stream",
     "text": [
      "8\n",
      "8\n"
     ]
    }
   ],
   "source": [
    "# prints the length of the string\n",
    "x = \"vanisher\"\n",
    "print (len(x))\n",
    "\n",
    "# ------------OR---------------\n",
    "\n",
    "x = len('vanisher')\n",
    "print(x)"
   ]
  },
  {
   "cell_type": "code",
   "execution_count": 6,
   "id": "512486bc-f94b-4cef-bd6a-9289e785a8e0",
   "metadata": {},
   "outputs": [
    {
     "name": "stdout",
     "output_type": "stream",
     "text": [
      "2.5\n"
     ]
    }
   ],
   "source": [
    "# string length operation\n",
    "x = len('abcde') / len('ab')\n",
    "# division thru the length of strings provided\n",
    "# abcde ---> 5 & ab ---> 2, i.e., 5/2 = 2.5\n",
    "print(x)"
   ]
  },
  {
   "cell_type": "code",
   "execution_count": null,
   "id": "458dee87-68dc-4cec-8da6-cd99ef33078f",
   "metadata": {},
   "outputs": [],
   "source": []
  }
 ],
 "metadata": {
  "kernelspec": {
   "display_name": "example",
   "language": "python",
   "name": "example"
  },
  "language_info": {
   "codemirror_mode": {
    "name": "ipython",
    "version": 3
   },
   "file_extension": ".py",
   "mimetype": "text/x-python",
   "name": "python",
   "nbconvert_exporter": "python",
   "pygments_lexer": "ipython3",
   "version": "3.12.2"
  }
 },
 "nbformat": 4,
 "nbformat_minor": 5
}
