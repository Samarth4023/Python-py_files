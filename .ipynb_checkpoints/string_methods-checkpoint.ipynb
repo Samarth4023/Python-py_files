{
 "cells": [
  {
   "cell_type": "markdown",
   "id": "93e5a1c9-cfd9-415e-8b34-3660a93d1c22",
   "metadata": {},
   "source": [
    "## join()"
   ]
  },
  {
   "cell_type": "code",
   "execution_count": 9,
   "id": "388fe283-5e82-4b20-acc3-d93d5e57013a",
   "metadata": {},
   "outputs": [
    {
     "name": "stdout",
     "output_type": "stream",
     "text": [
      "fore\n",
      "aft\n",
      "starboard\n",
      "port\n"
     ]
    }
   ],
   "source": [
    "# it takes a list as an argument and returns a string consisting of the list elements joined by seperator string.\n",
    "\n",
    "nautical_directions = \"\\n\".join(['fore', 'aft', 'starboard', 'port'])\n",
    "print(nautical_directions)"
   ]
  },
  {
   "cell_type": "markdown",
   "id": "f45bd2d9-de5b-4842-9dbc-866c802fefa4",
   "metadata": {},
   "source": [
    "## append()"
   ]
  },
  {
   "cell_type": "code",
   "execution_count": 11,
   "id": "a1e692bb-4c1a-4fe5-89be-0ca30b584731",
   "metadata": {},
   "outputs": [
    {
     "name": "stdout",
     "output_type": "stream",
     "text": [
      "['Jan', 'Feb', 'Mar', 'Apr', 'May', 'Jun', 'Jul', 'Aug', 'Sep', 'Oct', 'Nov', 'Dec']\n"
     ]
    }
   ],
   "source": [
    "# adds an element to the end of the lists.\n",
    "\n",
    "months = ['Jan', 'Feb', 'Mar', 'Apr', 'May', 'Jun', 'Jul', 'Aug', 'Sep', 'Oct', 'Nov']\n",
    "months.append(\"Dec\")\n",
    "print(months)"
   ]
  }
 ],
 "metadata": {
  "kernelspec": {
   "display_name": "example",
   "language": "python",
   "name": "example"
  },
  "language_info": {
   "codemirror_mode": {
    "name": "ipython",
    "version": 3
   },
   "file_extension": ".py",
   "mimetype": "text/x-python",
   "name": "python",
   "nbconvert_exporter": "python",
   "pygments_lexer": "ipython3",
   "version": "3.12.2"
  }
 },
 "nbformat": 4,
 "nbformat_minor": 5
}
