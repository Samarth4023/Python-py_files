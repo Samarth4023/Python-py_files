{
 "cells": [
  {
   "cell_type": "markdown",
   "id": "1c6d7762-503f-4af7-8533-bf3e14ab44ca",
   "metadata": {},
   "source": [
    "# If"
   ]
  },
  {
   "cell_type": "code",
   "execution_count": 4,
   "id": "489520b5-a874-4900-a8f8-aacb712fdfa0",
   "metadata": {},
   "outputs": [
    {
     "name": "stdout",
     "output_type": "stream",
     "text": [
      "Initial balances:\n",
      "Phone balance: 3\n",
      "Bank balance: 100\n",
      "Updated balances:\n",
      "Phone balance: 13\n",
      "Bank balance: 90\n"
     ]
    }
   ],
   "source": [
    "# Initialize phone balance and bank balance\n",
    "phone_balance = 3\n",
    "bank_balance = 100\n",
    "\n",
    "# Print the initial balances\n",
    "print(\"Initial balances:\")\n",
    "print(\"Phone balance:\", phone_balance)\n",
    "print(\"Bank balance:\", bank_balance)\n",
    "\n",
    "# Check if phone balance is less than 5\n",
    "if phone_balance < 5:\n",
    "    # Top up phone balance by 10\n",
    "    phone_balance += 10\n",
    "    # Deduct 10 from bank balance\n",
    "    bank_balance -= 10\n",
    "\n",
    "# Print updated balances\n",
    "print(\"Updated balances:\")\n",
    "print(\"Phone balance:\", phone_balance)\n",
    "print(\"Bank balance:\", bank_balance)\n"
   ]
  },
  {
   "cell_type": "markdown",
   "id": "ac20fa4d-56b2-4e76-8ebd-49da5ab88dfd",
   "metadata": {},
   "source": [
    "# If Else"
   ]
  },
  {
   "cell_type": "code",
   "execution_count": 21,
   "id": "9f577a27-73e6-489f-af5c-b19705686df1",
   "metadata": {},
   "outputs": [
    {
     "name": "stdout",
     "output_type": "stream",
     "text": [
      "Initial balances:\n",
      "Phone balance: 9\n",
      "Bank balance: 100\n",
      "Original balances:\n",
      "Phone balance: 9\n",
      "Bank balance: 100\n"
     ]
    }
   ],
   "source": [
    "# Initialize phone balance and bank balance\n",
    "phone_balance = 9\n",
    "bank_balance = 100\n",
    "\n",
    "# Print the initial balances\n",
    "print(\"Initial balances:\")\n",
    "print(\"Phone balance:\", phone_balance)\n",
    "print(\"Bank balance:\", bank_balance)\n",
    "\n",
    "# Check if phone balance is less than 5\n",
    "if phone_balance < 5:\n",
    "    # Top up phone balance by 10\n",
    "    phone_balance += 10\n",
    "    # Deduct 10 from bank balance\n",
    "    bank_balance -= 10\n",
    "    # Print updated balances\n",
    "    print(\"Updated balances:\")\n",
    "    print(\"Phone balance:\", phone_balance)\n",
    "    print(\"Bank balance:\", bank_balance)\n",
    "\n",
    "else:\n",
    "    # Print Initial unchanged balances\n",
    "    print(\"Original balances:\")\n",
    "    print(\"Phone balance:\", phone_balance)\n",
    "    print(\"Bank balance:\", bank_balance)\n",
    "    "
   ]
  },
  {
   "cell_type": "markdown",
   "id": "6c94fac7-71d9-4ee0-a738-a50c390a40dd",
   "metadata": {},
   "source": [
    "# Boolean Expressions"
   ]
  },
  {
   "cell_type": "markdown",
   "id": "a24df290-e8b5-4631-b259-70e2d081fa22",
   "metadata": {},
   "source": [
    "### logic + algebra (Checking only one condition)"
   ]
  },
  {
   "cell_type": "code",
   "execution_count": 64,
   "id": "7828b7e8-c008-4bdd-9076-e4bd0c634aff",
   "metadata": {},
   "outputs": [
    {
     "name": "stdout",
     "output_type": "stream",
     "text": [
      "BMI is considered as Normal !\n"
     ]
    }
   ],
   "source": [
    "# Calculate BMI based on weight and height\n",
    "weight = 70     # Weight in kilograms  \n",
    "height = 1.75   # Height in meters\n",
    "# Calculate BMI using the formula: BMI = weight / (height^2)\n",
    "if 18.5 <= (weight / height ** 2) < 25:                         # Check if the calculated BMI falls within the normal range (18.5 to 24.9)  \n",
    "    print(\"BMI is considered as Normal !\")"
   ]
  },
  {
   "cell_type": "markdown",
   "id": "2dee185f-e88c-4e3b-9add-345953d31fc0",
   "metadata": {},
   "source": [
    "### logical opertors"
   ]
  },
  {
   "cell_type": "code",
   "execution_count": 72,
   "id": "f911a1a0-eee7-45ee-a213-7c8f196cec0e",
   "metadata": {},
   "outputs": [
    {
     "name": "stdout",
     "output_type": "stream",
     "text": [
      "Is there a Ranibow\n"
     ]
    }
   ],
   "source": [
    "is_raining = 1\n",
    "is_sunny = 1\n",
    "if is_raining and is_sunny:\n",
    "    print('Is there a Ranibow')"
   ]
  },
  {
   "cell_type": "markdown",
   "id": "3a31d3b2-c24f-4723-a102-134fae6532ae",
   "metadata": {},
   "source": [
    "### multiple"
   ]
  },
  {
   "cell_type": "code",
   "execution_count": 95,
   "id": "d80506bd-ef0a-492e-982d-785ff485f51c",
   "metadata": {},
   "outputs": [
    {
     "name": "stdout",
     "output_type": "stream",
     "text": [
      "send email\n"
     ]
    }
   ],
   "source": [
    "not_unsubscribed = 1               # this code will print the output because loaction and not_unsubscribed satisfies the condition\n",
    "location = 'IND'\n",
    "if (not_unsubscribed) and (location == 'USA' or location == 'IND'):\n",
    "    print('send email')"
   ]
  },
  {
   "cell_type": "code",
   "execution_count": 89,
   "id": "07bc7f6e-3d84-41b9-8d22-a43d62cf6701",
   "metadata": {},
   "outputs": [],
   "source": [
    "not_unsubscribed = 0               # this code snippet will not print any output as not_unsubscribed is 0\n",
    "location = 'IND'\n",
    "if (not_unsubscribed) and (location == 'USA' or location == 'IND'):\n",
    "    print('send email')"
   ]
  },
  {
   "cell_type": "code",
   "execution_count": 93,
   "id": "e14f78a4-ea24-4a52-bb38-a853d12993c6",
   "metadata": {},
   "outputs": [],
   "source": [
    "not_unsubscribed = 1               # this code snippet will not print any output as location is RUS and not USA or IND\n",
    "location = 'RUS'\n",
    "if (not_unsubscribed) and (location == 'USA' or location == 'IND'):\n",
    "    print('send email')"
   ]
  },
  {
   "cell_type": "markdown",
   "id": "94e246c8-8327-4a80-9ae8-41fce8ca6b7f",
   "metadata": {},
   "source": [
    "## NOTE: Do not evaluate truth value of boolean variable with \"==\" because the variable itself is a boolean expression."
   ]
  }
 ],
 "metadata": {
  "kernelspec": {
   "display_name": "example",
   "language": "python",
   "name": "example"
  },
  "language_info": {
   "codemirror_mode": {
    "name": "ipython",
    "version": 3
   },
   "file_extension": ".py",
   "mimetype": "text/x-python",
   "name": "python",
   "nbconvert_exporter": "python",
   "pygments_lexer": "ipython3",
   "version": "3.12.2"
  }
 },
 "nbformat": 4,
 "nbformat_minor": 5
}
