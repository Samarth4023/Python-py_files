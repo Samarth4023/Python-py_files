{
 "cells": [
  {
   "cell_type": "markdown",
   "id": "7a991df6-5b69-4c45-9a8b-c321cc52012e",
   "metadata": {},
   "source": [
    "# Sets"
   ]
  },
  {
   "cell_type": "markdown",
   "id": "82e7b581-0d98-4f08-a2c4-56cc5b2f1696",
   "metadata": {},
   "source": [
    "## Sets are containers of unique elements without any particular ordering."
   ]
  },
  {
   "cell_type": "markdown",
   "id": "7ce80ad9-465a-4a46-a949-175d856841c1",
   "metadata": {},
   "source": [
    "## A datatype for mutable unordered collections of unique elements."
   ]
  },
  {
   "cell_type": "code",
   "execution_count": 10,
   "id": "0b27943c-fa22-410b-8bcb-830c123f3b8f",
   "metadata": {},
   "outputs": [
    {
     "name": "stdout",
     "output_type": "stream",
     "text": [
      "{0, 1, 2, 3, 4, 5, 6, 7, 8, 9}\n"
     ]
    }
   ],
   "source": [
    "numbers = [1,2,3,9,0,4,5,1,2,4,5,6,7,8,]\n",
    "print(set(numbers))"
   ]
  },
  {
   "cell_type": "code",
   "execution_count": 8,
   "id": "b6d2d341-3787-4f3e-a973-2b22cfd73c27",
   "metadata": {},
   "outputs": [
    {
     "name": "stdout",
     "output_type": "stream",
     "text": [
      "{'Jan', 'Apr', 'Nov', 'Feb', 'Oct', 'Jul', 'Dec', 'Mar', 'Jun', 'May', 'Sep', 'Aug'}\n"
     ]
    }
   ],
   "source": [
    "months = ['Jan','Feb','Mar','Apr','May','Jun','Jul','Aug','Sep','Oct','Nov','Dec','Apr','May']\n",
    "print(set(months))"
   ]
  }
 ],
 "metadata": {
  "kernelspec": {
   "display_name": "example",
   "language": "python",
   "name": "example"
  },
  "language_info": {
   "codemirror_mode": {
    "name": "ipython",
    "version": 3
   },
   "file_extension": ".py",
   "mimetype": "text/x-python",
   "name": "python",
   "nbconvert_exporter": "python",
   "pygments_lexer": "ipython3",
   "version": "3.12.2"
  }
 },
 "nbformat": 4,
 "nbformat_minor": 5
}
