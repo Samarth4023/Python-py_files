{
 "cells": [
  {
   "cell_type": "markdown",
   "id": "438abd5e-5ec7-4183-ac9b-a06815863a2f",
   "metadata": {},
   "source": [
    "# Default Arguments"
   ]
  },
  {
   "cell_type": "code",
   "execution_count": 3,
   "id": "18add08e-a7d4-4744-bdd5-6313e0b88da0",
   "metadata": {},
   "outputs": [],
   "source": [
    "def cylinder_volume(height, radius = 5):    # here 5 is default while running\n",
    "\n",
    "    print(cylinder_volume(10, 5))           # we can anything here (It's same)\n",
    "    print(cylinder_volume(10))\n",
    "\n",
    "#----------------OR------------------\n",
    "    print(cylinder_volume(10, 7))           # we can still change argument as it is declared above 5\n",
    "\n",
    "# Code will run radius 7 (i.e., we are overriding the default value 5)"
   ]
  },
  {
   "cell_type": "markdown",
   "id": "a4ecd06f-2dfa-4ad0-a344-c377c16d1aea",
   "metadata": {},
   "source": [
    "## It is possible to pass values by 2 ways.\n",
    "## 1) Position\n",
    "### - print(cylinder_volume(10, 7))\n",
    "## 2) Name\n",
    "### - print(cylinder_volume(height = 10, radius = 7))"
   ]
  },
  {
   "cell_type": "markdown",
   "id": "02b1f554-f070-4b5b-a1ac-ed2f1b87a1e3",
   "metadata": {},
   "source": []
  },
  {
   "cell_type": "markdown",
   "id": "9b6ebdb3-8f3e-454f-97f5-233f76dd81ba",
   "metadata": {},
   "source": [
    "# Defining Functions\n",
    "## 1) Population Density Functions."
   ]
  },
  {
   "cell_type": "code",
   "execution_count": 7,
   "id": "a5e3254a-a072-491c-bb31-b5d3a8f38748",
   "metadata": {},
   "outputs": [
    {
     "name": "stdout",
     "output_type": "stream",
     "text": [
      "expected result: 10, actual result: 10.0\n",
      "expected result: 7123.6902801, actual result: 7111.973684210527\n"
     ]
    }
   ],
   "source": [
    "def population_density(population, land_area):\n",
    "    return population / land_area\n",
    "\n",
    "test1 = population_density(10, 1)\n",
    "expected_result1 = 10\n",
    "print('expected result: {}, actual result: {}'.format(expected_result1, test1))\n",
    "\n",
    "test2 = population_density(864816, 121.6)\n",
    "expected_result2 = 7123.6902801\n",
    "print('expected result: {}, actual result: {}'.format(expected_result2, test2))"
   ]
  },
  {
   "cell_type": "markdown",
   "id": "89d3fd28-e4a8-4e06-8fb7-9b925c875e81",
   "metadata": {},
   "source": [
    "## 2) Time Delta."
   ]
  },
  {
   "cell_type": "code",
   "execution_count": 9,
   "id": "956b29ac-73e7-4c2a-a515-37871d48e2d5",
   "metadata": {},
   "outputs": [
    {
     "name": "stdout",
     "output_type": "stream",
     "text": [
      "1 week(s) and 3 day(s).\n"
     ]
    }
   ],
   "source": [
    "def readable_timedelta(days):\n",
    "    # use integer division to get the number of weeks\n",
    "    weeks = days // 7\n",
    "    # use % to get the number of days that remain\n",
    "    remainder = days % 7\n",
    "    return \"{} week(s) and {} day(s).\".format(weeks, remainder)\n",
    "\n",
    "# test your function\n",
    "print(readable_timedelta(10))"
   ]
  }
 ],
 "metadata": {
  "kernelspec": {
   "display_name": "example",
   "language": "python",
   "name": "example"
  },
  "language_info": {
   "codemirror_mode": {
    "name": "ipython",
    "version": 3
   },
   "file_extension": ".py",
   "mimetype": "text/x-python",
   "name": "python",
   "nbconvert_exporter": "python",
   "pygments_lexer": "ipython3",
   "version": "3.12.2"
  }
 },
 "nbformat": 4,
 "nbformat_minor": 5
}
