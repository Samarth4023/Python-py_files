{
 "cells": [
  {
   "cell_type": "markdown",
   "id": "50a0b695-605c-415c-9bea-d076610023f5",
   "metadata": {},
   "source": [
    "## 1) Using a for loop to create a set of counters."
   ]
  },
  {
   "cell_type": "markdown",
   "id": "b503d5e2-c350-4795-8377-8fbd402d9f48",
   "metadata": {},
   "source": [
    "### Keeping track of the total count of each word."
   ]
  },
  {
   "cell_type": "code",
   "execution_count": 14,
   "id": "0c58c387-d4a6-40ca-8d73-b41156c3d6bb",
   "metadata": {},
   "outputs": [
    {
     "name": "stdout",
     "output_type": "stream",
     "text": [
      "{'great': 1, 'expectaions': 1, 'the': 2, 'of': 1}\n"
     ]
    }
   ],
   "source": [
    "# Create a list of book titles\n",
    "book_title = ['great', 'expectaions', 'the', 'of', 'the']\n",
    "\n",
    "# Initialize an empty dictionary to count word occurrences\n",
    "word_counter = {}\n",
    "\n",
    "# Iterate through each word in the book_title list\n",
    "for word in book_title:\n",
    "    # If the word is not already a key in word_counter, add it with an initial count of 1\n",
    "    if word not in word_counter:\n",
    "        word_counter[word] = 1\n",
    "    else:\n",
    "        # If the word is already a key, increment its count by 1\n",
    "        word_counter[word] += 1\n",
    "\n",
    "# Print the word_counter dictionary\n",
    "print(word_counter)"
   ]
  },
  {
   "cell_type": "markdown",
   "id": "52ed0e9f-fca3-4cd7-b113-8b18cf085071",
   "metadata": {},
   "source": [
    "## 2) Using get method"
   ]
  },
  {
   "cell_type": "markdown",
   "id": "fb589ee1-d9e9-4b94-8331-f5517b02ddb9",
   "metadata": {},
   "source": [
    "### Keeping track of the total count of each word."
   ]
  },
  {
   "cell_type": "code",
   "execution_count": 16,
   "id": "db080bd5-ae3a-46c7-83d5-1738b270e0c0",
   "metadata": {},
   "outputs": [
    {
     "name": "stdout",
     "output_type": "stream",
     "text": [
      "{'great': 1, 'expectaions': 1, 'the': 2, 'of': 1}\n"
     ]
    }
   ],
   "source": [
    "# Create a list of book titles\n",
    "book_title = ['great', 'expectaions', 'the', 'of', 'the']\n",
    "\n",
    "# Initialize an empty dictionary to count word occurrences\n",
    "word_counter = {}\n",
    "\n",
    "# Iterate through each word in the book_title list\n",
    "for word in book_title:\n",
    "    # Use the get() method to retrieve the current count for the word\n",
    "    # If the word is not already a key in word_counter, default to 0\n",
    "    word_counter[word] = word_counter.get(word, 0) + 1\n",
    "\n",
    "# Print the word_counter dictionary\n",
    "print(word_counter)"
   ]
  }
 ],
 "metadata": {
  "kernelspec": {
   "display_name": "example",
   "language": "python",
   "name": "example"
  },
  "language_info": {
   "codemirror_mode": {
    "name": "ipython",
    "version": 3
   },
   "file_extension": ".py",
   "mimetype": "text/x-python",
   "name": "python",
   "nbconvert_exporter": "python",
   "pygments_lexer": "ipython3",
   "version": "3.12.2"
  }
 },
 "nbformat": 4,
 "nbformat_minor": 5
}
