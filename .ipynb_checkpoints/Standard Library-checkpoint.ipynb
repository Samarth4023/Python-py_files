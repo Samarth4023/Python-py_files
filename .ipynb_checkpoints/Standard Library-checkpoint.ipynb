{
 "cells": [
  {
   "cell_type": "markdown",
   "id": "ce51cedb-d4d9-4ccf-9d93-37013d8606d4",
   "metadata": {},
   "source": [
    "# Standard Library"
   ]
  },
  {
   "cell_type": "markdown",
   "id": "39a2eec1-a824-4379-ac62-78c026ba27f7",
   "metadata": {},
   "source": [
    "## Compute an Exponent"
   ]
  },
  {
   "cell_type": "code",
   "execution_count": 1,
   "id": "0e09b8da-42ce-479e-b082-fbf904b7a91a",
   "metadata": {},
   "outputs": [
    {
     "name": "stdout",
     "output_type": "stream",
     "text": [
      "20.085536923187664\n",
      "20.085536923187668\n"
     ]
    }
   ],
   "source": [
    "import math\n",
    "print(math.e**3)\n",
    "print(math.exp(3))# print e to the power of 3 using the math module"
   ]
  },
  {
   "cell_type": "markdown",
   "id": "7162a272-c709-41c4-bfff-ee3ae4f8072d",
   "metadata": {},
   "source": [
    "## Password Generator"
   ]
  },
  {
   "cell_type": "code",
   "execution_count": 2,
   "id": "28300b81-a366-455a-8641-e6937ad38312",
   "metadata": {},
   "outputs": [
    {
     "name": "stdout",
     "output_type": "stream",
     "text": [
      "intoreadingonce\n"
     ]
    }
   ],
   "source": [
    "# TODO: First import the `random` module\n",
    "import random\n",
    "\n",
    "# We begin with an empty `word_list`\n",
    "word_file = \"words.txt\"\n",
    "word_list = []\n",
    "\n",
    "# We fill up the word_list from the `words.txt` file\n",
    "with open(word_file,'r') as words:\n",
    "\tfor line in words:\n",
    "\t\t# remove white space and make everything lowercase\n",
    "\t\tword = line.strip().lower()\n",
    "\t\t# don't include words that are too long or too short\n",
    "\t\tif 3 < len(word) < 8:\n",
    "\t\t\tword_list.append(word)\n",
    "\n",
    "# TODO: Add your function generate_password below\n",
    "# It should return a string consisting of three random words \n",
    "# concatenated together without spaces\n",
    "def generate_password():\n",
    "\treturn random.choice(word_list) + random.choice(word_list) + random.choice(word_list)\n",
    "# Now we test the function\n",
    "print(generate_password())"
   ]
  }
 ],
 "metadata": {
  "kernelspec": {
   "display_name": "example",
   "language": "python",
   "name": "example"
  },
  "language_info": {
   "codemirror_mode": {
    "name": "ipython",
    "version": 3
   },
   "file_extension": ".py",
   "mimetype": "text/x-python",
   "name": "python",
   "nbconvert_exporter": "python",
   "pygments_lexer": "ipython3",
   "version": "3.12.2"
  }
 },
 "nbformat": 4,
 "nbformat_minor": 5
}
