{
 "cells": [
  {
   "cell_type": "markdown",
   "id": "2f8580ad-eb36-4dbb-99f8-5bf84663cc90",
   "metadata": {},
   "source": [
    "# Zip"
   ]
  },
  {
   "cell_type": "markdown",
   "id": "a65ab297-03f4-49c3-8b0b-d8a32c69bcfc",
   "metadata": {},
   "source": [
    "### Returns an iterator that combines multiple iterables into one sequence of tuples. Each tuple contains the elements in that position from all the iterables."
   ]
  },
  {
   "cell_type": "code",
   "execution_count": 15,
   "id": "06e216a8-e5c4-4054-97fb-3e1f357fdc1a",
   "metadata": {},
   "outputs": [
    {
     "name": "stdout",
     "output_type": "stream",
     "text": [
      "[('bananas', 15), ('matt', 34), ('dog kennels', 42), ('machine', 120), ('chesses', 5)]\n",
      "\n",
      "\n",
      "bananas 15\n",
      "matt 34\n",
      "dog kennels 42\n",
      "machine 120\n",
      "chesses 5\n",
      "\n",
      "\n",
      "bananas 15\n",
      "matt 34\n",
      "dog kennels 42\n",
      "machine 120\n",
      "chesses 5\n"
     ]
    }
   ],
   "source": [
    "# Given lists of items and their corresponding weights\n",
    "items = ['bananas', 'matt', 'dog kennels', 'machine', 'chesses']\n",
    "weights = [15, 34, 42, 120, 5]\n",
    "\n",
    "# Use the zip function to pair items with their weights\n",
    "# The resulting list contains tuples where each tuple has an item and its weight\n",
    "print(list(zip(items, weights)))\n",
    "print('\\n')\n",
    "\n",
    "#--------------OR------------------\n",
    "\n",
    "# The resulting iterator produces tuples where each tuple has an item and its weight\n",
    "for cargo in zip(items, weights):\n",
    "    print(cargo[0], cargo[1])\n",
    "print('\\n')\n",
    "\n",
    "#--------------OR------------------\n",
    "\n",
    "# The resulting iterator produces tuples where each tuple has an item and its weight\n",
    "for item, weight in zip(items, weights):\n",
    "    print(item, weight)"
   ]
  },
  {
   "cell_type": "markdown",
   "id": "76a3fb69-5cf5-4a6b-a8eb-210a0e46d468",
   "metadata": {},
   "source": [
    "# Unzip"
   ]
  },
  {
   "cell_type": "code",
   "execution_count": 30,
   "id": "e2b1120c-aa24-4938-a4b5-a4af5041cafb",
   "metadata": {},
   "outputs": [
    {
     "name": "stdout",
     "output_type": "stream",
     "text": [
      "Items: ('bananas', 'matt', 'dog kennels', 'machine', 'chesses')\n",
      "Weights: (15, 34, 42, 120, 5)\n"
     ]
    }
   ],
   "source": [
    "# Given a list of cargo items and their corresponding weights\n",
    "manifest = [('bananas', 15), ('matt', 34), ('dog kennels', 42), ('machine', 120), ('chesses', 5)]\n",
    "\n",
    "# Unzip the manifest into separate lists for items and weights\n",
    "items, weights = zip(*manifest)\n",
    "\n",
    "# Print the items and weights\n",
    "print(\"Items:\", items)\n",
    "print(\"Weights:\", weights)"
   ]
  },
  {
   "cell_type": "markdown",
   "id": "f05b3a9b-bf15-4208-b3b7-4ba23da60957",
   "metadata": {},
   "source": [
    "# Eumerate"
   ]
  },
  {
   "cell_type": "markdown",
   "id": "b6ab80bb-f49a-43f4-baea-38e950b91928",
   "metadata": {},
   "source": [
    "### Enumerate is a special built-in function, it returns these tuples containing the indices and values of a list, in an iterable for you."
   ]
  },
  {
   "cell_type": "code",
   "execution_count": 32,
   "id": "d8c9dbaf-f381-4542-8dfa-167059e17466",
   "metadata": {},
   "outputs": [
    {
     "name": "stdout",
     "output_type": "stream",
     "text": [
      "0 bananas\n",
      "1 matt\n",
      "2 dog kennels\n",
      "3 machine\n",
      "4 chesses\n",
      "\n",
      "\n",
      "0 bananas\n",
      "1 matt\n",
      "2 dog kennels\n",
      "3 machine\n",
      "4 chesses\n"
     ]
    }
   ],
   "source": [
    "# Given list of items\n",
    "items = ['bananas', 'matt', 'dog kennels', 'machine', 'chesses']\n",
    "\n",
    "# Using zip and range to iterate through items with their indices\n",
    "for i, item in zip(range(len(items)), items):\n",
    "    print(i, item)  # Print the index and the item name\n",
    "\n",
    "print('\\n')  # Add a newline for clarity\n",
    "\n",
    "# Using enumerate to directly iterate through items with their indices\n",
    "for i, item in enumerate(items):\n",
    "    print(i, item)  # Print the index and the item name"
   ]
  }
 ],
 "metadata": {
  "kernelspec": {
   "display_name": "example",
   "language": "python",
   "name": "example"
  },
  "language_info": {
   "codemirror_mode": {
    "name": "ipython",
    "version": 3
   },
   "file_extension": ".py",
   "mimetype": "text/x-python",
   "name": "python",
   "nbconvert_exporter": "python",
   "pygments_lexer": "ipython3",
   "version": "3.12.2"
  }
 },
 "nbformat": 4,
 "nbformat_minor": 5
}
