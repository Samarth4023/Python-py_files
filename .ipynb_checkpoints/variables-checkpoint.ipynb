{
 "cells": [
  {
   "cell_type": "code",
   "execution_count": null,
   "id": "5486e58d-c1fd-4965-a24e-02050a0e8587",
   "metadata": {},
   "outputs": [],
   "source": [
    "mv_population = 74728\n",
    "# mv_population ---> variable name\n",
    "# = ---> assignment operator\n",
    "# 74728 ---> variable"
   ]
  },
  {
   "cell_type": "code",
   "execution_count": null,
   "id": "5ca960a0-13ab-4cb9-a733-27a2aada254e",
   "metadata": {},
   "outputs": [],
   "source": [
    "x,y,z = 2,4,6\n",
    "# we can also assign like this"
   ]
  },
  {
   "cell_type": "code",
   "execution_count": 3,
   "id": "ab0384f5-b600-41a7-b1bd-f64716a60f9b",
   "metadata": {},
   "outputs": [
    {
     "name": "stdout",
     "output_type": "stream",
     "text": [
      "81528\n"
     ]
    }
   ],
   "source": [
    "# variable manipulation\n",
    "mv_population = 74728\n",
    "mv_population = mv_population + 4000 - 600\n",
    "\n",
    "# -------------OR----------------\n",
    "\n",
    "mv_population += 4000 - 600\n",
    "# += ---> increment assignment operator\n",
    "\n",
    "print (mv_population)"
   ]
  },
  {
   "cell_type": "code",
   "execution_count": null,
   "id": "0782ab22-ecf9-4d8f-ae63-07c6aacac382",
   "metadata": {},
   "outputs": [],
   "source": []
  }
 ],
 "metadata": {
  "kernelspec": {
   "display_name": "example",
   "language": "python",
   "name": "example"
  },
  "language_info": {
   "codemirror_mode": {
    "name": "ipython",
    "version": 3
   },
   "file_extension": ".py",
   "mimetype": "text/x-python",
   "name": "python",
   "nbconvert_exporter": "python",
   "pygments_lexer": "ipython3",
   "version": "3.12.2"
  }
 },
 "nbformat": 4,
 "nbformat_minor": 5
}
