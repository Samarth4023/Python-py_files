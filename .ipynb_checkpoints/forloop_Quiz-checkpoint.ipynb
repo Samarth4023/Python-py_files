{
 "cells": [
  {
   "cell_type": "markdown",
   "id": "f08fcf59-177a-4242-8a34-e3dd60fcd6d6",
   "metadata": {},
   "source": [
    "# Quiz 1"
   ]
  },
  {
   "cell_type": "code",
   "execution_count": 8,
   "id": "b5bfbf9c-eba0-4b1f-8093-0e7dc48d72a4",
   "metadata": {},
   "outputs": [
    {
     "name": "stdout",
     "output_type": "stream",
     "text": [
      "['joey_tribbiani', 'monica_gellar', 'chandler_bing', 'phueobe_buffay']\n"
     ]
    }
   ],
   "source": [
    "# Create a list of full names\n",
    "names = ['Joey Tribbiani', 'Monica Gellar', 'Chandler Bing', 'Phueobe Buffay']\n",
    "# Initialize an empty list to store usernames\n",
    "usernames = []\n",
    "\n",
    "# Iterate through each full name\n",
    "for u_names in names:\n",
    "    # Convert the name to lowercase and replace spaces with underscores\n",
    "    usernames.append(u_names.casefold().replace(\" \", \"_\"))\n",
    "# Print the list of generated usernames\n",
    "print(usernames)"
   ]
  },
  {
   "cell_type": "code",
   "execution_count": 10,
   "id": "73f39764-9923-4598-896a-ec694a6ee90a",
   "metadata": {},
   "outputs": [
    {
     "name": "stdout",
     "output_type": "stream",
     "text": [
      "joey_tribbiani\n",
      "monica_gellar\n",
      "chandler_bing\n",
      "phueobe_buffay\n"
     ]
    }
   ],
   "source": [
    "# Create a list of full names\n",
    "names = ['Joey Tribbiani', 'Monica Gellar', 'Chandler Bing', 'Phueobe Buffay']\n",
    "# Iterate through each full name\n",
    "for u_names in names:\n",
    "    # Convert and print the name to lowercase and replace spaces with underscores\n",
    "    print(u_names.casefold().replace(\" \", \"_\"))"
   ]
  },
  {
   "cell_type": "markdown",
   "id": "0ba44db6-82bf-4a3c-8be6-0ed4f9c43660",
   "metadata": {},
   "source": [
    "# Quiz 2"
   ]
  },
  {
   "cell_type": "code",
   "execution_count": 14,
   "id": "e39d4181-ba13-48b6-870b-47d5038edabf",
   "metadata": {},
   "outputs": [
    {
     "name": "stdout",
     "output_type": "stream",
     "text": [
      "</u>\n",
      "<li>first string</li>\n",
      "<li>second string</li>\n",
      "</ul>\n"
     ]
    }
   ],
   "source": [
    "items = ['first string', 'second string']\n",
    "html_str = \"</u>\\n\"\n",
    "\n",
    "for item in items:\n",
    "    html_str += \"<li>{}</li>\\n\".format(item)\n",
    "html_str += \"</ul>\"\n",
    "print(html_str)"
   ]
  },
  {
   "cell_type": "code",
   "execution_count": null,
   "id": "792a4ee1-b442-4e20-b7f6-b3203a21443a",
   "metadata": {},
   "outputs": [],
   "source": []
  }
 ],
 "metadata": {
  "kernelspec": {
   "display_name": "example",
   "language": "python",
   "name": "example"
  },
  "language_info": {
   "codemirror_mode": {
    "name": "ipython",
    "version": 3
   },
   "file_extension": ".py",
   "mimetype": "text/x-python",
   "name": "python",
   "nbconvert_exporter": "python",
   "pygments_lexer": "ipython3",
   "version": "3.12.2"
  }
 },
 "nbformat": 4,
 "nbformat_minor": 5
}
