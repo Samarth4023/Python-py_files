{
 "cells": [
  {
   "cell_type": "markdown",
   "id": "232f0b09-3713-4448-a074-fc3cf1f1fd55",
   "metadata": {},
   "source": [
    "# Dictionaries"
   ]
  },
  {
   "cell_type": "markdown",
   "id": "2acdfeee-18bd-40a1-a8a3-e00744b3384b",
   "metadata": {},
   "source": [
    "### A Datatype for mutable objects that stores mapping of unique keys to values\n",
    "### Stores pairs of elements, keys and values and it is uordered."
   ]
  },
  {
   "cell_type": "code",
   "execution_count": 11,
   "id": "14d60946-1a42-4533-8e09-eb9b69dd3b11",
   "metadata": {},
   "outputs": [
    {
     "name": "stdout",
     "output_type": "stream",
     "text": [
      "6\n"
     ]
    }
   ],
   "source": [
    "elements = {'hydogen': 1, 'helium': 2, 'carbon':6}\n",
    "# hydrogen, helium, carbon ----> keys  && 1,2,6 ----> assigned values\n",
    "print(elements['carbon'])\n",
    "#we can lookup values by using[] enclosing key"
   ]
  },
  {
   "cell_type": "markdown",
   "id": "44cccbc9-c3d3-4be9-9874-b998b59a4490",
   "metadata": {},
   "source": [
    "## adding elements to dictionary"
   ]
  },
  {
   "cell_type": "code",
   "execution_count": 6,
   "id": "5fe18cf6-d6d0-444f-b4bb-55b6ea97f568",
   "metadata": {},
   "outputs": [
    {
     "name": "stdout",
     "output_type": "stream",
     "text": [
      "{'hydogen': 1, 'helium': 2, 'carbon': 6, 'lithium': 3}\n"
     ]
    }
   ],
   "source": [
    "elements = {'hydogen': 1, 'helium': 2, 'carbon':6}\n",
    "elements ['lithium'] = 3\n",
    "print(elements)"
   ]
  },
  {
   "cell_type": "markdown",
   "id": "fe80ec77-59ce-437a-bad3-01d8dd70700c",
   "metadata": {},
   "source": [
    "## get()"
   ]
  },
  {
   "cell_type": "code",
   "execution_count": 14,
   "id": "0e9e0783-5a59-4b85-a943-89dfdba7517c",
   "metadata": {},
   "outputs": [
    {
     "name": "stdout",
     "output_type": "stream",
     "text": [
      "None\n"
     ]
    }
   ],
   "source": [
    "elements = {'hydogen': 1, 'helium': 2, 'carbon':6, 'lithium':3}\n",
    "print(elements.get('dilithium'))"
   ]
  },
  {
   "cell_type": "code",
   "execution_count": 16,
   "id": "25e02bde-a269-420e-af11-8deea9cca71a",
   "metadata": {},
   "outputs": [
    {
     "name": "stdout",
     "output_type": "stream",
     "text": [
      "2\n"
     ]
    }
   ],
   "source": [
    "elements = {'hydogen': 1, 'helium': 2, 'carbon':6, 'lithium':3}\n",
    "print(elements.get('helium'))"
   ]
  },
  {
   "cell_type": "markdown",
   "id": "1f1e22e0-6b1e-4cf1-9434-48665780c3dd",
   "metadata": {},
   "source": [
    "## is & is not operator"
   ]
  },
  {
   "cell_type": "code",
   "execution_count": 25,
   "id": "b3d5fa0c-ef2f-41ac-8613-71e86253a580",
   "metadata": {},
   "outputs": [
    {
     "name": "stdout",
     "output_type": "stream",
     "text": [
      "True\n"
     ]
    }
   ],
   "source": [
    "# is operator\n",
    "\n",
    "elements = {'hydogen': 1, 'helium': 2, 'carbon':6, 'lithium':3}\n",
    "x = elements.get('dilithium')\n",
    "is_null = x is None\n",
    "print(is_null)"
   ]
  },
  {
   "cell_type": "code",
   "execution_count": 27,
   "id": "8440620a-8eeb-4676-9eae-4abd83cb43b7",
   "metadata": {},
   "outputs": [
    {
     "name": "stdout",
     "output_type": "stream",
     "text": [
      "False\n"
     ]
    }
   ],
   "source": [
    "# is not operator\n",
    "\n",
    "elements = {'hydogen': 1, 'helium': 2, 'carbon':6, 'lithium':3}\n",
    "x = elements.get('dilithium')\n",
    "is_null = x is not None\n",
    "print(is_null)"
   ]
  },
  {
   "cell_type": "markdown",
   "id": "4d80b7df-c826-492c-adaf-cdaa6118efaf",
   "metadata": {},
   "source": [
    "#### Note: If you define a variable with an empty set of curly braces like this: a={}, Python will assign an empty dictionary to that variable.You can always use set() & dict() to define empty sets and dictionaries as well. "
   ]
  },
  {
   "cell_type": "markdown",
   "id": "dd7346f8-cc13-4e57-be21-8763b5642489",
   "metadata": {},
   "source": [
    "## Compound Data Stuctures"
   ]
  },
  {
   "cell_type": "code",
   "execution_count": 41,
   "id": "72782582-acae-4d71-a6b1-326773d54df1",
   "metadata": {},
   "outputs": [
    {
     "name": "stdout",
     "output_type": "stream",
     "text": [
      "{'number': 2, 'weight': 4.002602, 'symbol': 'He'}\n",
      "4.002602\n",
      "There's no such element\n"
     ]
    }
   ],
   "source": [
    "elements = {'hydrogen':{'number':1, 'weight':1.00794, 'symbol':'H'}, 'helium':{'number':2, 'weight':4.002602, 'symbol': 'He'}}\n",
    "print(elements['helium'])\n",
    "print(elements['helium']['weight'])\n",
    "print(elements.get('unobotium','There\\'s no such element'))"
   ]
  }
 ],
 "metadata": {
  "kernelspec": {
   "display_name": "example",
   "language": "python",
   "name": "example"
  },
  "language_info": {
   "codemirror_mode": {
    "name": "ipython",
    "version": 3
   },
   "file_extension": ".py",
   "mimetype": "text/x-python",
   "name": "python",
   "nbconvert_exporter": "python",
   "pygments_lexer": "ipython3",
   "version": "3.12.2"
  }
 },
 "nbformat": 4,
 "nbformat_minor": 5
}
