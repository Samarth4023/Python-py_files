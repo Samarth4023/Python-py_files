{
 "cells": [
  {
   "cell_type": "markdown",
   "id": "ca509a2c-fa48-4614-8dbc-bf1abeeca56f",
   "metadata": {},
   "source": [
    "# 1) Zip Coordinates."
   ]
  },
  {
   "cell_type": "code",
   "execution_count": 37,
   "id": "8d302e78-93c3-4292-99a1-02729c41c2e6",
   "metadata": {},
   "outputs": [
    {
     "name": "stdout",
     "output_type": "stream",
     "text": [
      "F: 23, 677, 4\n",
      "J: 53, 233, 16\n",
      "A: 2, 405, -6\n",
      "Q: -12, 433, -42\n",
      "Y: 95, 905, 3\n",
      "B: 103, 376, -6\n",
      "W: 14, 432, 23\n",
      "X: -5, 445, -1\n"
     ]
    }
   ],
   "source": [
    "# Given lists of coordinates and labels\n",
    "x_coord = [23, 53, 2, -12, 95, 103, 14, -5]\n",
    "y_coord = [677, 233, 405, 433, 905, 376, 432, 445]\n",
    "z_coord = [4, 16, -6, -42, 3, -6, 23, -1]\n",
    "labels = ['F', 'J', 'A', 'Q', 'Y', 'B', 'W', 'X']\n",
    "\n",
    "# Create a list of formatted points combining labels and coordinates\n",
    "points = []\n",
    "for point in zip(labels, x_coord, y_coord, z_coord):\n",
    "    points.append('{}: {}, {}, {}'.format(*point))\n",
    "\n",
    "# Print each point\n",
    "for point in points:\n",
    "    print(point)"
   ]
  },
  {
   "cell_type": "markdown",
   "id": "a62a83e2-c070-4ad9-b7f1-dbbe6414889e",
   "metadata": {},
   "source": [
    "# 2) Zip lists to Dictionary."
   ]
  },
  {
   "cell_type": "code",
   "execution_count": 39,
   "id": "cdeaa874-3f70-4a7e-bda4-56f8263daf4b",
   "metadata": {},
   "outputs": [
    {
     "name": "stdout",
     "output_type": "stream",
     "text": [
      "{'Barney': 72, 'Robin': 68, 'Ted': 72, 'Lilly': 66, 'Marshall': 76}\n"
     ]
    }
   ],
   "source": [
    "# List of cast member names\n",
    "cast_names = ['Barney', 'Robin', 'Ted', 'Lilly', 'Marshall']\n",
    "\n",
    "# List of cast member heights in inches\n",
    "cast_heights = [72, 68, 72, 66, 76]\n",
    "\n",
    "# Create a dictionary by zipping cast names with their corresponding heights\n",
    "cast = dict(zip(cast_names, cast_heights))\n",
    "\n",
    "# Print the resulting dictionary\n",
    "print(cast)"
   ]
  },
  {
   "cell_type": "markdown",
   "id": "d670554c-8582-4cab-aea1-d5174e868782",
   "metadata": {},
   "source": [
    "# 3) Unzip Tuples."
   ]
  },
  {
   "cell_type": "code",
   "execution_count": 35,
   "id": "b476ec8a-7452-4900-a0d9-4a002bc1c5d6",
   "metadata": {},
   "outputs": [
    {
     "name": "stdout",
     "output_type": "stream",
     "text": [
      "('Barney', 'Robin', 'Ted', 'Lilly', 'Marshall')\n",
      "(72, 68, 72, 66, 76)\n"
     ]
    }
   ],
   "source": [
    "# Tuple containing cast members' names and their corresponding heights\n",
    "cast = (('Barney', 72), ('Robin', 68), ('Ted', 72), ('Lilly', 66), ('Marshall', 76))\n",
    "\n",
    "# Unzip the cast tuple into two separate tuples: names and heights\n",
    "names, heights = zip(*cast)\n",
    "\n",
    "# Print the tuple containing the names\n",
    "print(names)\n",
    "\n",
    "# Print the tuple containing the heights\n",
    "print(heights)"
   ]
  },
  {
   "cell_type": "markdown",
   "id": "c4f59882-aab8-4f9f-8d6b-3673550582fe",
   "metadata": {},
   "source": [
    "# 4) Transpose with Zip."
   ]
  },
  {
   "cell_type": "code",
   "execution_count": 33,
   "id": "964b9e2c-66c3-464e-9478-873b8d517dea",
   "metadata": {},
   "outputs": [
    {
     "name": "stdout",
     "output_type": "stream",
     "text": [
      "((0, 3, 6, 9), (1, 4, 7, 10), (2, 5, 8, 11))\n"
     ]
    }
   ],
   "source": [
    "# Tuple containing tuples of sequential numbers\n",
    "data = ((0, 1, 2), (3, 4, 5), (6, 7, 8), (9, 10, 11))\n",
    "\n",
    "# Transpose the data tuple, swapping rows with columns\n",
    "data_transpose = tuple(zip(*data))\n",
    "\n",
    "# Print the transposed tuple\n",
    "print(data_transpose)"
   ]
  },
  {
   "cell_type": "markdown",
   "id": "495ff69a-3d64-41d1-9b78-d34b28e3cebf",
   "metadata": {},
   "source": [
    "# 5) Enumerate."
   ]
  },
  {
   "cell_type": "code",
   "execution_count": 41,
   "id": "04d5e859-3552-43af-a5cb-a244229ab6f4",
   "metadata": {},
   "outputs": [
    {
     "name": "stdout",
     "output_type": "stream",
     "text": [
      "['Barney Stinson 72', 'Robin Scherbatsky 68', 'Ted Mosby 72', 'Lilly Aldrin 66', 'Marshall Ericksen 76']\n"
     ]
    }
   ],
   "source": [
    "# List of cast member names\n",
    "cast = ['Barney Stinson', 'Robin Scherbatsky', 'Ted Mosby', 'Lilly Aldrin', 'Marshall Ericksen']\n",
    "\n",
    "# List of cast member heights in inches\n",
    "heights = [72, 68, 72, 66, 76]\n",
    "\n",
    "# Loop through each character in the cast list by index and name\n",
    "for i, character in enumerate(cast):\n",
    "    # Append the corresponding height to the character's name\n",
    "    cast[i] = character + \" \" + str(heights[i])\n",
    "\n",
    "# Print the updated cast list with heights included\n",
    "print(cast)"
   ]
  }
 ],
 "metadata": {
  "kernelspec": {
   "display_name": "example",
   "language": "python",
   "name": "example"
  },
  "language_info": {
   "codemirror_mode": {
    "name": "ipython",
    "version": 3
   },
   "file_extension": ".py",
   "mimetype": "text/x-python",
   "name": "python",
   "nbconvert_exporter": "python",
   "pygments_lexer": "ipython3",
   "version": "3.12.2"
  }
 },
 "nbformat": 4,
 "nbformat_minor": 5
}
