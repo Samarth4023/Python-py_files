{
 "cells": [
  {
   "cell_type": "markdown",
   "id": "6095ecb9-371a-4145-a3a8-20791911832e",
   "metadata": {},
   "source": [
    "# Tuples\n",
    "## A datatype for immutable ordered sequences of elements.\n",
    "### Tuples cannot be added or remove items or sort them in place."
   ]
  },
  {
   "cell_type": "code",
   "execution_count": 5,
   "id": "b16307ee-0483-4278-ae15-992f9c089b11",
   "metadata": {},
   "outputs": [
    {
     "name": "stdout",
     "output_type": "stream",
     "text": [
      "The dimensions are 52 * 40 * 100\n"
     ]
    }
   ],
   "source": [
    "# Tuples are used to store related pieces of information\n",
    "dimensions = 52, 40, 100\n",
    "length, width, height = dimensions\n",
    "# tuple unpacking\n",
    "print('The dimensions are {} * {} * {}'.format(length, width, height))\n"
   ]
  },
  {
   "cell_type": "markdown",
   "id": "77640d7c-8838-47cf-9b8b-d7328a71edc6",
   "metadata": {},
   "source": [
    "### You can also use tuple unpacking for assigning the information from a tuple into multiple variables without having to access them one by one, and make multiple assignment statements."
   ]
  }
 ],
 "metadata": {
  "kernelspec": {
   "display_name": "example",
   "language": "python",
   "name": "example"
  },
  "language_info": {
   "codemirror_mode": {
    "name": "ipython",
    "version": 3
   },
   "file_extension": ".py",
   "mimetype": "text/x-python",
   "name": "python",
   "nbconvert_exporter": "python",
   "pygments_lexer": "ipython3",
   "version": "3.12.2"
  }
 },
 "nbformat": 4,
 "nbformat_minor": 5
}
