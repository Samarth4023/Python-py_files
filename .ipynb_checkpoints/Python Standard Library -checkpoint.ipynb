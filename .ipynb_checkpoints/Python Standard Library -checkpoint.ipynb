{
 "cells": [
  {
   "cell_type": "markdown",
   "id": "de48072d-aaf4-42a9-811f-1d49eb7e2939",
   "metadata": {},
   "source": [
    "# Python Standard Library (One Example(Math))"
   ]
  },
  {
   "cell_type": "code",
   "execution_count": 1,
   "id": "0f037322-305d-478d-a107-31f47be5d380",
   "metadata": {},
   "outputs": [
    {
     "name": "stdout",
     "output_type": "stream",
     "text": [
      "24\n"
     ]
    }
   ],
   "source": [
    "import math\n",
    "print(math.factorial(4))"
   ]
  },
  {
   "cell_type": "markdown",
   "id": "5bd416ac-1b33-4f63-abb1-137bb1632ec8",
   "metadata": {},
   "source": [
    "https://docs.python.org/3/library/index.html"
   ]
  },
  {
   "cell_type": "markdown",
   "id": "dcca7cd0-6abf-4202-94d6-d230cdc884de",
   "metadata": {},
   "source": [
    "https://pymotw.com/3/"
   ]
  }
 ],
 "metadata": {
  "kernelspec": {
   "display_name": "example",
   "language": "python",
   "name": "example"
  },
  "language_info": {
   "codemirror_mode": {
    "name": "ipython",
    "version": 3
   },
   "file_extension": ".py",
   "mimetype": "text/x-python",
   "name": "python",
   "nbconvert_exporter": "python",
   "pygments_lexer": "ipython3",
   "version": "3.12.2"
  }
 },
 "nbformat": 4,
 "nbformat_minor": 5
}
