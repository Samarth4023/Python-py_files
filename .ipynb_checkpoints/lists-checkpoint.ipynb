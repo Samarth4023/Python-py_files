{
 "cells": [
  {
   "cell_type": "code",
   "execution_count": 10,
   "id": "45c5852b-844a-41dc-bbed-bdecae81f2a3",
   "metadata": {},
   "outputs": [
    {
     "name": "stdout",
     "output_type": "stream",
     "text": [
      "Feb\n",
      "Jan\n",
      "Nov\n",
      "Dec\n",
      "Aug\n"
     ]
    }
   ],
   "source": [
    "months = ['Jan','Feb','Mar','Apr','May','Jun','Jul','Aug','Sep','Oct','Nov','Dec']\n",
    "print(months[1])\n",
    "print(months[0])\n",
    "print(months[10])\n",
    "print(months[-1])\n",
    "print(months[-5])"
   ]
  },
  {
   "cell_type": "markdown",
   "id": "670ba18d-c358-4c55-b3ea-72d6860d5049",
   "metadata": {},
   "source": [
    "## Slicing"
   ]
  },
  {
   "cell_type": "code",
   "execution_count": 16,
   "id": "d1a7f9bd-65dd-43df-8c85-55f806bab8ba",
   "metadata": {},
   "outputs": [
    {
     "name": "stdout",
     "output_type": "stream",
     "text": [
      "['Jul', 'Aug', 'Sep']\n"
     ]
    }
   ],
   "source": [
    "months = ['Jan','Feb','Mar','Apr','May','Jun','Jul','Aug','Sep','Oct','Nov','Dec']\n",
    "print(months[6:9])\n",
    "# lower index is inclusive\n",
    "# upper index is exclusive"
   ]
  },
  {
   "cell_type": "code",
   "execution_count": 14,
   "id": "90c4410c-cb7a-44b0-b5cb-d30b60c02a03",
   "metadata": {},
   "outputs": [
    {
     "name": "stdout",
     "output_type": "stream",
     "text": [
      "['Jan', 'Feb', 'Mar', 'Apr', 'May', 'Jun']\n"
     ]
    }
   ],
   "source": [
    "months = ['Jan','Feb','Mar','Apr','May','Jun','Jul','Aug','Sep','Oct','Nov','Dec']\n",
    "print(months[:6])"
   ]
  },
  {
   "cell_type": "code",
   "execution_count": 12,
   "id": "bcab9f9b-ad03-4695-a710-ddc9c92e9d7a",
   "metadata": {},
   "outputs": [
    {
     "name": "stdout",
     "output_type": "stream",
     "text": [
      "['Jul', 'Aug', 'Sep', 'Oct', 'Nov', 'Dec']\n"
     ]
    }
   ],
   "source": [
    "months = ['Jan','Feb','Mar','Apr','May','Jun','Jul','Aug','Sep','Oct','Nov','Dec']\n",
    "print(months[6:])"
   ]
  },
  {
   "cell_type": "code",
   "execution_count": 20,
   "id": "6632f429-7d73-4e5b-91a8-ea479514cf6c",
   "metadata": {},
   "outputs": [
    {
     "name": "stdout",
     "output_type": "stream",
     "text": [
      "Wor\n"
     ]
    }
   ],
   "source": [
    "string = \"Hello World!\"\n",
    "print(string[6:9])"
   ]
  },
  {
   "cell_type": "code",
   "execution_count": 22,
   "id": "a57f2297-6094-4fcf-a25d-665135553dc9",
   "metadata": {},
   "outputs": [
    {
     "name": "stdout",
     "output_type": "stream",
     "text": [
      "World!\n"
     ]
    }
   ],
   "source": [
    "string = \"Hello World!\"\n",
    "print(string[6:])"
   ]
  },
  {
   "cell_type": "code",
   "execution_count": 24,
   "id": "713a6352-bf87-4683-97f9-4550ce2134c3",
   "metadata": {},
   "outputs": [
    {
     "name": "stdout",
     "output_type": "stream",
     "text": [
      "Hello Wor\n"
     ]
    }
   ],
   "source": [
    "string = \"Hello World!\"\n",
    "print(string[:9])"
   ]
  },
  {
   "cell_type": "markdown",
   "id": "06c824c3-e195-4f93-a33d-f5d60d294812",
   "metadata": {},
   "source": [
    "## List Modifications"
   ]
  },
  {
   "cell_type": "code",
   "execution_count": 4,
   "id": "7aab17cc-1054-4a3d-8cbc-d8717d62daa6",
   "metadata": {},
   "outputs": [
    {
     "name": "stdout",
     "output_type": "stream",
     "text": [
      "['Jan', 'Feb', 'Mar', 'Friday', 'May', 7, 'Jul', 'Aug', 'Sep', 'Oct', 'Nov', 'Dec']\n"
     ]
    }
   ],
   "source": [
    "months = ['Jan','Feb','Mar','Apr','May','Jun','Jul','Aug','Sep','Oct','Nov','Dec']\n",
    "months[3] = 'Friday'\n",
    "months[5] = 7\n",
    "print(months)"
   ]
  }
 ],
 "metadata": {
  "kernelspec": {
   "display_name": "example",
   "language": "python",
   "name": "example"
  },
  "language_info": {
   "codemirror_mode": {
    "name": "ipython",
    "version": 3
   },
   "file_extension": ".py",
   "mimetype": "text/x-python",
   "name": "python",
   "nbconvert_exporter": "python",
   "pygments_lexer": "ipython3",
   "version": "3.12.2"
  }
 },
 "nbformat": 4,
 "nbformat_minor": 5
}
