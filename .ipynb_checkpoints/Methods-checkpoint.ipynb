{
 "cells": [
  {
   "cell_type": "markdown",
   "id": "7d7a6e6c-0f80-4b7d-8169-67f729693bd8",
   "metadata": {},
   "source": [
    "# Methods\n",
    "## Methods are actually functions that are called using dot(.) operator"
   ]
  },
  {
   "cell_type": "raw",
   "id": "ad75f32e-59f4-4882-bc90-c60bf0d5df17",
   "metadata": {},
   "source": []
  },
  {
   "cell_type": "markdown",
   "id": "c2a0b488-bc29-48fb-afab-99ea00acadd6",
   "metadata": {},
   "source": [
    "## capitalize()"
   ]
  },
  {
   "cell_type": "code",
   "execution_count": 7,
   "id": "c4dad772-2d9d-4bc4-a1d9-fff4281a90e4",
   "metadata": {},
   "outputs": [
    {
     "name": "stdout",
     "output_type": "stream",
     "text": [
      "Sebastian thrun\n"
     ]
    }
   ],
   "source": [
    "my_string = \"sebastian thrun\"\n",
    "print(my_string.capitalize())\n",
    "# it changes the first character of a string to uppercase and converts all other characters to lowercase."
   ]
  },
  {
   "cell_type": "markdown",
   "id": "e758def1-e0e8-4dbf-a42d-c6f1518b401b",
   "metadata": {},
   "source": [
    "## encode()"
   ]
  },
  {
   "cell_type": "code",
   "execution_count": 8,
   "id": "4d071b42-9464-4096-82cf-c323cf052ff0",
   "metadata": {},
   "outputs": [
    {
     "name": "stdout",
     "output_type": "stream",
     "text": [
      "b'sebastian thrun'\n"
     ]
    }
   ],
   "source": [
    "my_string = \"sebastian thrun\"\n",
    "print(my_string.encode())\n",
    "# Python String encode() converts a string value into a collection of bytes, using an encoding scheme specified by the user."
   ]
  },
  {
   "cell_type": "markdown",
   "id": "8a5b6396-e13d-4dda-8aaf-bbae33ce4aac",
   "metadata": {},
   "source": [
    "## casefold()"
   ]
  },
  {
   "cell_type": "code",
   "execution_count": 126,
   "id": "9b1efdd4-e15f-4140-a222-6a01ef5909ba",
   "metadata": {},
   "outputs": [
    {
     "name": "stdout",
     "output_type": "stream",
     "text": [
      "sebastian thrun\n"
     ]
    }
   ],
   "source": [
    "my_string = \"SEBASTIAN THRUN\"\n",
    "print(my_string.casefold())\n",
    "# The casefold() method in Python converts a string to lowercase and returns a new string. \n",
    "# It is similar to the lower() method, but is stronger and more aggressive."
   ]
  },
  {
   "cell_type": "markdown",
   "id": "8960a0b7-456f-4bff-b30c-1574afbdbdac",
   "metadata": {},
   "source": [
    "## center()"
   ]
  },
  {
   "cell_type": "code",
   "execution_count": 14,
   "id": "0be20774-4ede-450f-bc52-f5b5a8863a2b",
   "metadata": {},
   "outputs": [
    {
     "name": "stdout",
     "output_type": "stream",
     "text": [
      "                 sebastian thrun                  \n"
     ]
    }
   ],
   "source": [
    "my_string = \"sebastian thrun\"\n",
    "print(my_string.center(50))\n",
    "# The center() method in Python is a string method that returns a new string that is centered within a specified width."
   ]
  },
  {
   "cell_type": "markdown",
   "id": "0bcf980b-f6ac-480c-9615-96bfde09c8d5",
   "metadata": {},
   "source": [
    "## count()"
   ]
  },
  {
   "cell_type": "code",
   "execution_count": 23,
   "id": "52fd688a-1873-42b9-afa4-a9eab451c6c4",
   "metadata": {},
   "outputs": [
    {
     "name": "stdout",
     "output_type": "stream",
     "text": [
      "2\n"
     ]
    }
   ],
   "source": [
    "my_string = \"sebastian thrun\"\n",
    "print(my_string.count('a'))\n",
    "# The count() method in Python returns the number of times a specified value appears in a string or a list. \n",
    "# It is a built-in method that is available for both strings and lists."
   ]
  },
  {
   "cell_type": "markdown",
   "id": "f2178c65-0d3f-47e4-829b-78b5d9f9b51a",
   "metadata": {},
   "source": [
    "## endswith()"
   ]
  },
  {
   "cell_type": "code",
   "execution_count": 40,
   "id": "f508a288-06f6-42da-9305-a2906a9e3018",
   "metadata": {},
   "outputs": [
    {
     "name": "stdout",
     "output_type": "stream",
     "text": [
      "True\n",
      "False\n",
      "True\n"
     ]
    }
   ],
   "source": [
    "# The endswith() method in Python is used to check if a string ends with a specified suffix.\n",
    "my_string = \"sebastian thrun\"\n",
    "print(my_string.endswith('thrun'))\n",
    "\n",
    "# -----------OR--------------\n",
    "\n",
    "my_string = \"sebastian thrun\"\n",
    "print(my_string.endswith('a'))\n",
    "\n",
    "# -----------OR--------------\n",
    "\n",
    "my_string = \"sebastian thrun\"\n",
    "print(my_string.endswith('n'))"
   ]
  },
  {
   "cell_type": "markdown",
   "id": "ec3d9b03-0f47-493c-89c9-90830e1430a4",
   "metadata": {},
   "source": [
    "## expandtabs()"
   ]
  },
  {
   "cell_type": "code",
   "execution_count": 48,
   "id": "359afb6a-b23f-4cf2-b551-a35be88bdc63",
   "metadata": {},
   "outputs": [
    {
     "name": "stdout",
     "output_type": "stream",
     "text": [
      "sebastian           thrun\n"
     ]
    }
   ],
   "source": [
    "my_string = \"sebastian \\tthrun\"\n",
    "print(my_string.expandtabs(20))\n",
    "# The expandtabs() method in Python is a string method that replaces all occurrences of tab characters (\\t)\n",
    "# in a string with a specified number of spaces."
   ]
  },
  {
   "cell_type": "markdown",
   "id": "39f1adb7-58e7-4d2b-a257-6da87725a85e",
   "metadata": {},
   "source": [
    "## find()"
   ]
  },
  {
   "cell_type": "code",
   "execution_count": 53,
   "id": "fa86c99c-ea42-4566-86b9-6d2ba97b7119",
   "metadata": {},
   "outputs": [
    {
     "name": "stdout",
     "output_type": "stream",
     "text": [
      "10\n",
      "-1\n",
      "0\n"
     ]
    }
   ],
   "source": [
    "# The find() method in Python is a string method that returns the lowest index value of the first occurrence of the substring from the input string; \n",
    "# else it returns -1.\n",
    "my_string = \"sebastian thrun\"\n",
    "print(my_string.find('thrun'))\n",
    "\n",
    "#-------------OR-------------\n",
    "\n",
    "my_string = \"sebastian thrun\"\n",
    "print(my_string.find('Sebastian'))\n",
    "\n",
    "# -----------OR--------------\n",
    "\n",
    "my_string = \"sebastian thrun\"\n",
    "print(my_string.find('sebastian'))"
   ]
  },
  {
   "cell_type": "markdown",
   "id": "d66e752d-257a-4361-a82f-80f6737b6c9a",
   "metadata": {},
   "source": [
    "## format()"
   ]
  },
  {
   "cell_type": "code",
   "execution_count": 56,
   "id": "9346a288-a8cb-46f0-bdf1-934fbebb2e8a",
   "metadata": {},
   "outputs": [
    {
     "name": "stdout",
     "output_type": "stream",
     "text": [
      "The value of pi is: 3.14159\n"
     ]
    }
   ],
   "source": [
    "# The format() method in Python is a string method that allows you to format a specified value(s) and insert them inside the string's placeholder. \n",
    "# The placeholder is defined using curly brackets: {}. \n",
    "pi = 3.14159\n",
    "print(\"The value of pi is: {}\".format(pi))"
   ]
  },
  {
   "cell_type": "markdown",
   "id": "61e2c2d9-86e9-4920-8540-59c77be5c3d7",
   "metadata": {},
   "source": [
    "## format_map()"
   ]
  },
  {
   "cell_type": "code",
   "execution_count": 65,
   "id": "77675679-8311-4e2a-9c3a-3a098515660c",
   "metadata": {},
   "outputs": [
    {
     "name": "stdout",
     "output_type": "stream",
     "text": [
      "That DJ is Mike Perry\n",
      "That DJ is Sam Jimmy\n"
     ]
    }
   ],
   "source": [
    "# Python format_map() returns a new string by concatenating the values in the user-supplied dict within the defined places. \n",
    "# This approach uses the placeholder ({}) formatting style. This format_map() function is used to returns a dictionary key's value.\n",
    "a = {'x':'Mike', 'y':'Perry'}\n",
    "b = {'x':'Sam', 'y':'Jimmy'}\n",
    "\n",
    "print(\"That DJ is {x} {y}\".format_map(a))\n",
    "print(\"That DJ is {x} {y}\".format_map(b))"
   ]
  },
  {
   "cell_type": "markdown",
   "id": "95cc8d1e-2faa-44d1-a319-19f794b967d2",
   "metadata": {},
   "source": [
    "## index()"
   ]
  },
  {
   "cell_type": "code",
   "execution_count": 70,
   "id": "288a8856-3650-49b6-8d03-e99838d19e49",
   "metadata": {},
   "outputs": [
    {
     "name": "stdout",
     "output_type": "stream",
     "text": [
      "10\n"
     ]
    }
   ],
   "source": [
    "#The index() method in Python is a built-in function that returns the index of the first occurrence of a specified value within a list. \n",
    "#It takes one argument, which is the value to search for. \n",
    "#If the value is found in the list, the index() method returns the index of the first occurrence. \n",
    "#If the value is not found in the list, the index() method raises a ValueError exception.\n",
    "my_string = \"sebastian thrun\"\n",
    "print(my_string.index('thrun'))"
   ]
  },
  {
   "cell_type": "markdown",
   "id": "0a45844b-1c0f-4b4f-83b0-61d6f947095c",
   "metadata": {},
   "source": [
    "## isalnum()"
   ]
  },
  {
   "cell_type": "code",
   "execution_count": 73,
   "id": "da8b99e1-3fef-4c01-a0ca-d54afd146a67",
   "metadata": {},
   "outputs": [
    {
     "name": "stdout",
     "output_type": "stream",
     "text": [
      "True\n",
      "False\n"
     ]
    }
   ],
   "source": [
    "# The isalnum() method in Python is a string method that returns True if all characters in a string are alphanumeric. \n",
    "# Alphanumeric characters include: Alphabet letters (a-z) and Numbers (0-9).\n",
    "# Characters that are not alphanumeric include: Space ! * # & % ?\n",
    "\n",
    "my_string = \"sebastia98thrun\"\n",
    "print(my_string.isalnum())\n",
    "\n",
    "#-------------OR--------------\n",
    "\n",
    "my_string = \"sebastia98thrun&\"\n",
    "print(my_string.isalnum())"
   ]
  },
  {
   "cell_type": "markdown",
   "id": "a07a5779-7f12-4e71-9e7c-f1752067c05e",
   "metadata": {},
   "source": [
    "## isalpha()"
   ]
  },
  {
   "cell_type": "code",
   "execution_count": 79,
   "id": "8ec3ea15-02b0-434c-a530-db51c7292cd8",
   "metadata": {},
   "outputs": [
    {
     "name": "stdout",
     "output_type": "stream",
     "text": [
      "False\n",
      "True\n",
      "False\n"
     ]
    }
   ],
   "source": [
    "# The isalpha() method in Python is used to check if a string contains only alphabetic characters. \n",
    "# It returns True if all the characters in the string are alphabetic and False if not.\n",
    "\n",
    "my_string = \"sebastia98thrun\"\n",
    "print(my_string.isalpha())\n",
    "\n",
    "my_string = \"sebastianthrun\"\n",
    "print(my_string.isalpha())\n",
    "\n",
    "my_string = \"sebastian thrun\"\n",
    "print(my_string.isalpha())"
   ]
  },
  {
   "cell_type": "markdown",
   "id": "21904ee7-be42-40c3-9eb5-0130a7511b34",
   "metadata": {},
   "source": [
    "## islower()"
   ]
  },
  {
   "cell_type": "code",
   "execution_count": 83,
   "id": "cfdd9097-1917-498c-88cb-16fe173b6d65",
   "metadata": {},
   "outputs": [
    {
     "name": "stdout",
     "output_type": "stream",
     "text": [
      "True\n"
     ]
    }
   ],
   "source": [
    "# The islower() method returns True if all the characters are in lower case, otherwise False. \n",
    "# Numbers, symbols and spaces are not checked, only alphabet characters.\n",
    "\n",
    "my_string = \"sebastian thrun\"\n",
    "print(my_string.islower())"
   ]
  },
  {
   "cell_type": "markdown",
   "id": "c8e6e5a8-c6ca-4114-9c27-29c15cf43f08",
   "metadata": {},
   "source": [
    "## istitle()"
   ]
  },
  {
   "cell_type": "code",
   "execution_count": 88,
   "id": "b8e4a4d5-29a9-491b-b8e2-590817cf7210",
   "metadata": {},
   "outputs": [
    {
     "name": "stdout",
     "output_type": "stream",
     "text": [
      "False\n",
      "True\n"
     ]
    }
   ],
   "source": [
    "# The istitle() method in Python is a built-in string method that checks if a string is title-cased. \n",
    "# A title-cased string is a string where all words start with a capital letter and the rest of the letters are lowercase. \n",
    "# The istitle() method ignores whitespace characters, numbers, and symbols.\n",
    "\n",
    "my_string = \"sebastian thrun\"\n",
    "print(my_string.istitle())\n",
    "\n",
    "my_string = \"Sebastian Thrun\"\n",
    "print(my_string.istitle())"
   ]
  },
  {
   "cell_type": "markdown",
   "id": "c2c96940-19e8-462e-871b-d40d24a91a3b",
   "metadata": {},
   "source": [
    "## isdecimal()"
   ]
  },
  {
   "cell_type": "code",
   "execution_count": 127,
   "id": "809d9b65-c64e-4952-8428-aab75ff0a8ce",
   "metadata": {},
   "outputs": [
    {
     "name": "stdout",
     "output_type": "stream",
     "text": [
      "True\n",
      "False\n",
      "True\n",
      "False\n"
     ]
    }
   ],
   "source": [
    "# The isdecimal() method in Python is a built-in function that returns True if all the characters in a string are decimals (0-9). \n",
    "# The method can also be used on unicode objects.\n",
    "\n",
    "my_string = \"34526754\"\n",
    "print(my_string.isdecimal())\n",
    "\n",
    "my_string = \"34526754.965\"\n",
    "print(my_string.isdecimal())\n",
    "\n",
    "my_string = u\"34526754\"\n",
    "print(my_string.isdecimal())\n",
    "\n",
    "my_string = \"345 26754\"\n",
    "print(my_string.isdecimal())"
   ]
  },
  {
   "cell_type": "markdown",
   "id": "c6a889f6-2f71-4785-8a0b-5169225e6883",
   "metadata": {},
   "source": [
    "## isnumeric()"
   ]
  },
  {
   "cell_type": "code",
   "execution_count": 95,
   "id": "78ef10c1-adf7-442c-9ba6-79679c2c9a01",
   "metadata": {},
   "outputs": [
    {
     "name": "stdout",
     "output_type": "stream",
     "text": [
      "True\n",
      "False\n",
      "False\n",
      "False\n"
     ]
    }
   ],
   "source": [
    "# Python isnumeric() method returns True if all of the characters in the string are numeric (only numbers). \n",
    "# If not, it returns False. \n",
    "# The Python isnumeric() function returns a Boolean value depending on the existence of numeric characters in the string.\n",
    "\n",
    "my_string = \"34526754\"\n",
    "print(my_string.isnumeric())\n",
    "\n",
    "my_string = \"python34526754\"\n",
    "print(my_string.isnumeric())\n",
    "\n",
    "my_string = \"34526754.963\"\n",
    "print(my_string.isnumeric())\n",
    "\n",
    "my_string = \"34526 754\"\n",
    "print(my_string.isnumeric())"
   ]
  },
  {
   "cell_type": "markdown",
   "id": "72e2e314-afde-4e9b-8e24-7486dc46cbf5",
   "metadata": {},
   "source": [
    "## isupper()"
   ]
  },
  {
   "cell_type": "code",
   "execution_count": 99,
   "id": "35874041-46ca-4c03-9ee2-11c35f94373c",
   "metadata": {},
   "outputs": [
    {
     "name": "stdout",
     "output_type": "stream",
     "text": [
      "True\n",
      "True\n",
      "False\n",
      "False\n"
     ]
    }
   ],
   "source": [
    "# The isupper() method in Python is a built-in method used for string handling. \n",
    "# This method returns “True” if all characters in the string are uppercase, otherwise, returns “False”. \n",
    "# It returns “True” for whitespaces but if there is only whitespace in the string then returns “False”.\n",
    "\n",
    "my_string = \"SAM\"\n",
    "print(my_string.isupper())\n",
    "\n",
    "my_string = \"SA    M\"\n",
    "print(my_string.isupper())\n",
    "\n",
    "my_string = \"Sam\"\n",
    "print(my_string.isupper())\n",
    "\n",
    "my_string = \"    \"\n",
    "print(my_string.isupper())"
   ]
  },
  {
   "cell_type": "markdown",
   "id": "0efa99c8-0e49-43c9-93c0-4a6ae396663d",
   "metadata": {},
   "source": [
    "## isdigit()"
   ]
  },
  {
   "cell_type": "code",
   "execution_count": 103,
   "id": "f6852041-6be1-435c-a286-6e4a319174a5",
   "metadata": {},
   "outputs": [
    {
     "name": "stdout",
     "output_type": "stream",
     "text": [
      "True\n",
      "False\n",
      "False\n"
     ]
    }
   ],
   "source": [
    "# The isdigit() method in Python is a string method that checks if all characters in a string are digits. \n",
    "# It returns True if all characters are digits, and False otherwise.\n",
    "\n",
    "my_string = \"12345\"\n",
    "print(my_string.isdigit())\n",
    "\n",
    "my_string = \"12345abcd\"\n",
    "print(my_string.isdigit())\n",
    "\n",
    "my_string = \"12345.789\"\n",
    "print(my_string.isdigit())"
   ]
  },
  {
   "cell_type": "markdown",
   "id": "30f67460-0416-43e8-96ed-f771d04c536b",
   "metadata": {},
   "source": [
    "## isprintable()"
   ]
  },
  {
   "cell_type": "code",
   "execution_count": 128,
   "id": "995542a2-7fc1-4cc2-b5c5-c2e6696c679d",
   "metadata": {},
   "outputs": [
    {
     "name": "stdout",
     "output_type": "stream",
     "text": [
      "True\n",
      "True\n",
      "True\n",
      "False\n"
     ]
    }
   ],
   "source": [
    "# The isprintable() method in Python is a built-in string method that checks if a string contains any printable characters. \n",
    "# It returns True if all characters in the string are printable, or if the string is empty. \n",
    "# Otherwise, it returns False. Printable characters are those that can be displayed on a screen or printed on paper. \n",
    "#They include letters, numbers, symbols, punctuation, and whitespace.\n",
    "\n",
    "my_string = \"12345\"\n",
    "print(my_string.isprintable())\n",
    "\n",
    "my_string = \"sam\"\n",
    "print(my_string.isprintable())\n",
    "\n",
    "my_string = \" \"\n",
    "print(my_string.isprintable())\n",
    "\n",
    "my_string = \"\\n\"\n",
    "print(my_string.isprintable())"
   ]
  },
  {
   "cell_type": "markdown",
   "id": "e69ad0af-376c-488f-91f8-634a02823cd0",
   "metadata": {},
   "source": [
    "## join()"
   ]
  },
  {
   "cell_type": "code",
   "execution_count": 109,
   "id": "2281dba0-e8e4-4cd9-9e4b-5ee3483dfc95",
   "metadata": {},
   "outputs": [
    {
     "name": "stdout",
     "output_type": "stream",
     "text": [
      "apple,banana,cherry\n",
      "1 2 3\n"
     ]
    }
   ],
   "source": [
    "# The join() method in Python takes all items in an iterable and joins them into one string. \n",
    "# A string must be specified as the separator.\n",
    "\n",
    "fruits = ['apple', 'banana', 'cherry']\n",
    "string = ','.join(fruits)\n",
    "print(string)\n",
    "\n",
    "numbers = ('1', '2', '3')\n",
    "string = ' '.join(numbers)\n",
    "print(string)"
   ]
  },
  {
   "cell_type": "markdown",
   "id": "3a5c38e5-bfe2-49c2-a919-083b7365b4f5",
   "metadata": {},
   "source": [
    "## isidentifier()"
   ]
  },
  {
   "cell_type": "code",
   "execution_count": 114,
   "id": "542b1fff-eaf0-46b3-b325-5fc32ba2da34",
   "metadata": {},
   "outputs": [
    {
     "name": "stdout",
     "output_type": "stream",
     "text": [
      "True\n",
      "False\n",
      "False\n",
      "True\n"
     ]
    }
   ],
   "source": [
    "# The isidentifier() method in Python checks if a string is a valid identifier. \n",
    "# The method returns True if the string is valid and False if it is not.\n",
    "\n",
    "my_string = \"sam\"\n",
    "print(my_string.isidentifier())\n",
    "\n",
    "my_string = \"12sam\"\n",
    "print(my_string.isidentifier())\n",
    "\n",
    "my_string = \"sam jhon\"\n",
    "print(my_string.isidentifier())\n",
    "\n",
    "my_string = \"sam_jhon\"\n",
    "print(my_string.isidentifier())"
   ]
  },
  {
   "cell_type": "markdown",
   "id": "4c1a3547-3fab-44fb-ac0a-3020920e55dc",
   "metadata": {},
   "source": [
    "## isspace()"
   ]
  },
  {
   "cell_type": "code",
   "execution_count": 120,
   "id": "3b774838-e277-4d56-8d9b-211261742f43",
   "metadata": {},
   "outputs": [
    {
     "name": "stdout",
     "output_type": "stream",
     "text": [
      "False\n",
      "False\n",
      "True\n",
      "False\n"
     ]
    }
   ],
   "source": [
    "# The isspace() method in Python returns True if all the characters in a string are whitespaces, and False otherwise.\n",
    "\n",
    "my_string = \"sam jhon\"\n",
    "print(my_string.isspace())\n",
    "\n",
    "my_string = \"samjhon\"\n",
    "print(my_string.isspace())\n",
    "\n",
    "my_string = \" \"\n",
    "print(my_string.isspace())\n",
    "\n",
    "my_string = \"  s  \"\n",
    "print(my_string.isspace())"
   ]
  },
  {
   "cell_type": "markdown",
   "id": "1b2779a2-087c-463d-b458-611081e5b292",
   "metadata": {},
   "source": [
    "## ljust()"
   ]
  },
  {
   "cell_type": "code",
   "execution_count": 125,
   "id": "fc99a69c-60ee-4cc6-9890-bd533d93de7c",
   "metadata": {},
   "outputs": [
    {
     "name": "stdout",
     "output_type": "stream",
     "text": [
      "sam                 \n",
      "sam*****************\n"
     ]
    }
   ],
   "source": [
    "# The ljust() method in Python is used to left-align a string. \n",
    "# It takes two arguments: the length of the string and the character to use for padding. \n",
    "# If the length of the string is less than the length specified, the padding character will be added to the right of the string. \n",
    "# If the length of the string is greater than the length specified, the string will be truncated.\n",
    "\n",
    "my_string = \"sam\"\n",
    "print(my_string.ljust(20))\n",
    "\n",
    "my_string = \"sam\"\n",
    "print(my_string.ljust(20, '*'))"
   ]
  },
  {
   "cell_type": "markdown",
   "id": "52418429-c400-4e47-ab0d-264c4ff97ca1",
   "metadata": {},
   "source": [
    "## split()"
   ]
  },
  {
   "cell_type": "code",
   "execution_count": 12,
   "id": "2271c025-6c31-4928-b041-8032a68fbb56",
   "metadata": {},
   "outputs": [
    {
     "name": "stdout",
     "output_type": "stream",
     "text": [
      "['The', 'Cow', 'jumped', 'over', 'the', 'moon']\n",
      "['The', 'Cow', 'jumped', 'over the moon']\n",
      "['The', 'Cow', 'jumped', 'over', 'the', 'moon']\n"
     ]
    }
   ],
   "source": [
    "# The split() method in Python is a string method that splits a string into a list of strings, where each string is a substring of the original string. \n",
    "# The split() method takes two arguments: a separator and a maximum number of splits. \n",
    "# The separator is a string that is used to split the original string. \n",
    "# The maximum number of splits is an integer that specifies the maximum number of times the split() method will split the original string.\n",
    "\n",
    "my_string = \"The Cow jumped over the moon\"\n",
    "print(my_string.split(' ', 5))\n",
    "\n",
    "my_string = \"The Cow jumped over the moon\"\n",
    "print(my_string.split(' ', 3))\n",
    "\n",
    "my_string = \"The Cow jumped over the moon\"\n",
    "print(my_string.split(' '))"
   ]
  },
  {
   "cell_type": "markdown",
   "id": "c72eeefd-ba80-4575-ade2-0bfbe6232f70",
   "metadata": {},
   "source": [
    "# Each of these methods accepts string\n",
    "# Methods that are possible with any string"
   ]
  }
 ],
 "metadata": {
  "kernelspec": {
   "display_name": "example",
   "language": "python",
   "name": "example"
  },
  "language_info": {
   "codemirror_mode": {
    "name": "ipython",
    "version": 3
   },
   "file_extension": ".py",
   "mimetype": "text/x-python",
   "name": "python",
   "nbconvert_exporter": "python",
   "pygments_lexer": "ipython3",
   "version": "3.12.2"
  }
 },
 "nbformat": 4,
 "nbformat_minor": 5
}
