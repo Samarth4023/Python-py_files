{
 "cells": [
  {
   "cell_type": "code",
   "execution_count": 2,
   "id": "a85c9ced-c69c-411f-8a74-b9ebbd99a5d6",
   "metadata": {},
   "outputs": [
    {
     "name": "stdout",
     "output_type": "stream",
     "text": [
      "<class 'int'>\n",
      "<class 'float'>\n",
      "<class 'str'>\n"
     ]
    }
   ],
   "source": [
    "print(type(4))\n",
    "# interger datatype\n",
    "print(type(4.3))\n",
    "# float datatype\n",
    "print(type(\"Sam\"))\n",
    "# string datatype"
   ]
  },
  {
   "cell_type": "code",
   "execution_count": null,
   "id": "ac6ca992-a447-4763-9a6a-f6a20347bba5",
   "metadata": {},
   "outputs": [],
   "source": []
  }
 ],
 "metadata": {
  "kernelspec": {
   "display_name": "example",
   "language": "python",
   "name": "example"
  },
  "language_info": {
   "codemirror_mode": {
    "name": "ipython",
    "version": 3
   },
   "file_extension": ".py",
   "mimetype": "text/x-python",
   "name": "python",
   "nbconvert_exporter": "python",
   "pygments_lexer": "ipython3",
   "version": "3.12.2"
  }
 },
 "nbformat": 4,
 "nbformat_minor": 5
}
