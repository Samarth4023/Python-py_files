{
 "cells": [
  {
   "cell_type": "markdown",
   "id": "a69da560-6faa-463a-8ac4-e3e8b2431330",
   "metadata": {},
   "source": [
    "# Only Keys"
   ]
  },
  {
   "cell_type": "code",
   "execution_count": 18,
   "id": "51032b43-75b0-4b67-ae7b-368d840a0668",
   "metadata": {},
   "outputs": [
    {
     "name": "stdout",
     "output_type": "stream",
     "text": [
      "great\n",
      "expectaions\n",
      "the\n",
      "of\n"
     ]
    }
   ],
   "source": [
    "# Create a dictionary called book_title with word frequencies\n",
    "book_title = {'great': 1, 'expectaions': 2, 'the': 3, 'of': 4, 'the': 5}\n",
    "\n",
    "# Iterate through each key (word) in the book_title dictionary\n",
    "for key in book_title:\n",
    "    # Print the key (word)\n",
    "    print(key)"
   ]
  },
  {
   "cell_type": "markdown",
   "id": "372360b8-4f6b-40d9-aaa9-58314149345a",
   "metadata": {},
   "source": [
    "# Both Keys & Values"
   ]
  },
  {
   "cell_type": "code",
   "execution_count": 23,
   "id": "7ebc8343-307b-439b-8ed8-06f69eb0358e",
   "metadata": {},
   "outputs": [
    {
     "name": "stdout",
     "output_type": "stream",
     "text": [
      "Key: great, Value: 1\n",
      "Key: expectaions, Value: 2\n",
      "Key: the, Value: 5\n",
      "Key: of, Value: 4\n"
     ]
    }
   ],
   "source": [
    "# Create a dictionary called book_title with word frequencies\n",
    "book_title = {'great': 1, 'expectaions': 2, 'the': 3, 'of': 4, 'the': 5}\n",
    "\n",
    "# Iterate through each key-value pair in the book_title dictionary\n",
    "for key, value in book_title.items():\n",
    "    # Print the key (word) and its corresponding value (frequency)\n",
    "    print('Key: {}, Value: {}'.format(key, value))"
   ]
  },
  {
   "cell_type": "markdown",
   "id": "09cbe242-0622-40ed-945d-c3cecd80e08a",
   "metadata": {},
   "source": [
    "# Example"
   ]
  },
  {
   "cell_type": "markdown",
   "id": "e12d95d1-5f25-4419-9cfd-583fc91a3e1b",
   "metadata": {},
   "source": [
    "## count total fruits"
   ]
  },
  {
   "cell_type": "code",
   "execution_count": 28,
   "id": "85ddfa1f-c458-4c14-8515-ce473e953b75",
   "metadata": {},
   "outputs": [
    {
     "name": "stdout",
     "output_type": "stream",
     "text": [
      "23\n"
     ]
    }
   ],
   "source": [
    "# Initialize a variable to store the total count\n",
    "result = 0\n",
    "\n",
    "# A dictionary representing items in a basket and their quantities\n",
    "basket_items = {'apples': 4, 'oranges': 19, 'kites': 3, 'sandwiches': 8}\n",
    "\n",
    "# A list of fruits we want to consider\n",
    "fruits = ['apples', 'oranges', 'pears', 'peaches', 'grapes', 'bananas']\n",
    "\n",
    "# Iterate through each key-value pair in the basket_items dictionary\n",
    "for fruit, count in basket_items.items():\n",
    "    # Check if the fruit is in the list of desired fruits\n",
    "    if fruit in fruits:\n",
    "        # Add the quantity of the fruit to the result\n",
    "        result += count\n",
    "\n",
    "# Print the total count of desired fruits\n",
    "print(result)"
   ]
  },
  {
   "cell_type": "markdown",
   "id": "9a466cb2-7d41-4174-b481-1e7e40192c43",
   "metadata": {},
   "source": [
    "## count fruits and not fruits"
   ]
  },
  {
   "cell_type": "code",
   "execution_count": 34,
   "id": "aff891ab-b86c-44ba-a110-75ef57d1090c",
   "metadata": {},
   "outputs": [
    {
     "name": "stdout",
     "output_type": "stream",
     "text": [
      "2\n",
      "2\n"
     ]
    }
   ],
   "source": [
    "# Initialize a variable to store the total count\n",
    "fruit_count, not_fruit_count = 0, 0\n",
    "\n",
    "# A dictionary representing items in a basket and their quantities\n",
    "basket_items = {'apples': 4, 'oranges': 19, 'kites': 3, 'sandwiches': 8}\n",
    "\n",
    "# A list of fruits we want to consider\n",
    "fruits = ['apples', 'oranges', 'pears', 'peaches', 'grapes', 'bananas']\n",
    "\n",
    "# Iterate through each key-value pair in the basket_items dictionary\n",
    "for fruit, count in basket_items.items():\n",
    "    # Check if the fruit is in the list of desired fruits\n",
    "    if fruit in fruits:\n",
    "        # Add the quantity of the fruit to the result\n",
    "        fruit_count += 1\n",
    "    else:\n",
    "        # Add the quantity of the not_fruit to the result\n",
    "        not_fruit_count += 1\n",
    "        \n",
    "# Print the total count of types of fruits\n",
    "print(fruit_count)\n",
    "# Print the total count of not_fruits\n",
    "print(not_fruit_count)"
   ]
  }
 ],
 "metadata": {
  "kernelspec": {
   "display_name": "example",
   "language": "python",
   "name": "example"
  },
  "language_info": {
   "codemirror_mode": {
    "name": "ipython",
    "version": 3
   },
   "file_extension": ".py",
   "mimetype": "text/x-python",
   "name": "python",
   "nbconvert_exporter": "python",
   "pygments_lexer": "ipython3",
   "version": "3.12.2"
  }
 },
 "nbformat": 4,
 "nbformat_minor": 5
}
