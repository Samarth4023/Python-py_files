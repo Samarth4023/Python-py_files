{
 "cells": [
  {
   "cell_type": "markdown",
   "id": "90ac7b8b-3f77-416b-9eba-39695c10688f",
   "metadata": {},
   "source": [
    "# Ranges"
   ]
  },
  {
   "cell_type": "code",
   "execution_count": 23,
   "id": "fda0e72d-343f-4e61-8ab3-a81bac3bb077",
   "metadata": {},
   "outputs": [
    {
     "name": "stdout",
     "output_type": "stream",
     "text": [
      "[0, 1, 2, 3]\n"
     ]
    }
   ],
   "source": [
    "# Create a list of integers using the range function\n",
    "# The range function generates numbers from 0 (inclusive) up to 4 (exclusive)\n",
    "print(list(range(4)))"
   ]
  },
  {
   "cell_type": "code",
   "execution_count": 21,
   "id": "df1c1173-4773-4187-971e-f7b6dc3a860a",
   "metadata": {},
   "outputs": [
    {
     "name": "stdout",
     "output_type": "stream",
     "text": [
      "[2, 3, 4, 5]\n"
     ]
    }
   ],
   "source": [
    "# Create a list of integers using the range function\n",
    "# The range function generates numbers from 2 (inclusive) up to 6 (exclusive)\n",
    "print(list(range(2, 6)))"
   ]
  },
  {
   "cell_type": "code",
   "execution_count": 25,
   "id": "93b19fd6-8181-46ae-9cb6-1d57245d6ec6",
   "metadata": {},
   "outputs": [
    {
     "name": "stdout",
     "output_type": "stream",
     "text": [
      "[1, 3, 5, 7, 9, 11, 13, 15, 17, 19]\n"
     ]
    }
   ],
   "source": [
    "# Create a list of odd numbers using the range function\n",
    "# The range function starts from 1 (inclusive), goes up to 20 (exclusive), and increments by 2\n",
    "print(list(range(1, 20, 2)))"
   ]
  },
  {
   "cell_type": "markdown",
   "id": "29507883-d702-404e-af1e-91795c0946ce",
   "metadata": {},
   "source": [
    "# Ranges in for loop"
   ]
  },
  {
   "cell_type": "code",
   "execution_count": 27,
   "id": "556d61a0-266d-4798-844b-f67106bd31b6",
   "metadata": {},
   "outputs": [
    {
     "name": "stdout",
     "output_type": "stream",
     "text": [
      "['Pune', 'Mumbai', 'New York', 'Jakarta']\n"
     ]
    }
   ],
   "source": [
    "# Create a list of cities\n",
    "cities = ['pune', 'mumbai', 'new york', 'jakarta']\n",
    "# Iterate through each city using its index\n",
    "for index in range (len(cities)):\n",
    "    # Capitalize the first letter of each city name\n",
    "    cities[index] = cities[index].title()\n",
    "# Print the updated list of cities\n",
    "print(cities)"
   ]
  },
  {
   "cell_type": "code",
   "execution_count": 29,
   "id": "877eaaa0-c400-4601-adfa-188c257f08ef",
   "metadata": {},
   "outputs": [
    {
     "name": "stdout",
     "output_type": "stream",
     "text": [
      "Hello!\n",
      "Hello!\n",
      "Hello!\n"
     ]
    }
   ],
   "source": [
    "# Iterate through the range from 0 to 2 (3 times)\n",
    "for i in range(3):\n",
    "    # Print 'Hello!' for each iteration\n",
    "    print('Hello!')"
   ]
  }
 ],
 "metadata": {
  "kernelspec": {
   "display_name": "example",
   "language": "python",
   "name": "example"
  },
  "language_info": {
   "codemirror_mode": {
    "name": "ipython",
    "version": 3
   },
   "file_extension": ".py",
   "mimetype": "text/x-python",
   "name": "python",
   "nbconvert_exporter": "python",
   "pygments_lexer": "ipython3",
   "version": "3.12.2"
  }
 },
 "nbformat": 4,
 "nbformat_minor": 5
}
