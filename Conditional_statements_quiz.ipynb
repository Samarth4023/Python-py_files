{
 "cells": [
  {
   "cell_type": "markdown",
   "id": "20eb2a6b-26b4-47fe-8515-4f0adb3bcd7d",
   "metadata": {},
   "source": [
    "# Quiz"
   ]
  },
  {
   "cell_type": "markdown",
   "id": "7ea7f6d0-9ed9-4461-85a8-35b6e7eb0a67",
   "metadata": {},
   "source": [
    "## 1) Factorial (!) "
   ]
  },
  {
   "cell_type": "code",
   "execution_count": 5,
   "id": "bc4441ff-f025-40af-8b29-a4378747f078",
   "metadata": {},
   "outputs": [
    {
     "name": "stdout",
     "output_type": "stream",
     "text": [
      "720\n"
     ]
    }
   ],
   "source": [
    "# While Loop\n",
    "# Initialize variables\n",
    "number = 6\n",
    "product = 1\n",
    "current = 1\n",
    "\n",
    "# While loop: Multiply the product by each integer from 1 to 'number'\n",
    "while current <= number:\n",
    "    # Multiply the 'product' by the current integer\n",
    "    product *= current\n",
    "    # increment current integer by 1\n",
    "    current += 1\n",
    "\n",
    "# Print the final product\n",
    "print(product)"
   ]
  },
  {
   "cell_type": "code",
   "execution_count": 6,
   "id": "358b43f2-ee67-482d-8239-cc364774ee97",
   "metadata": {},
   "outputs": [
    {
     "name": "stdout",
     "output_type": "stream",
     "text": [
      "720\n"
     ]
    }
   ],
   "source": [
    "# For Loop\n",
    "# Initialize variables\n",
    "number = 6\n",
    "product = 1\n",
    "\n",
    "# Iterate through a range of integers from 2 to 'number' (inclusive)\n",
    "for i in range(2, number + 1):\n",
    "    # Multiply the 'product' by the current integer 'i'\n",
    "    product *= i\n",
    "\n",
    "# Print the final product\n",
    "print(product)"
   ]
  },
  {
   "cell_type": "markdown",
   "id": "61cdc9dc-6f84-4330-9ab1-56737dad6f29",
   "metadata": {},
   "source": [
    "## 2) Count By"
   ]
  },
  {
   "cell_type": "code",
   "execution_count": 8,
   "id": "ab60fb01-9950-43f5-af42-4140ec0230c9",
   "metadata": {},
   "outputs": [
    {
     "name": "stdout",
     "output_type": "stream",
     "text": [
      "12\n"
     ]
    }
   ],
   "source": [
    "# Initialize variables\n",
    "start_num = 1\n",
    "end_num = 11\n",
    "count_by = 1\n",
    "\n",
    "# Initialize break_num with start_num\n",
    "break_num = start_num\n",
    "\n",
    "# Increment break_num until it exceeds end_num\n",
    "while break_num <= end_num:\n",
    "    break_num += count_by\n",
    "\n",
    "# Print the final value of break_num\n",
    "print(break_num)  # Output: 12"
   ]
  },
  {
   "cell_type": "markdown",
   "id": "077c3bf7-2724-4d3d-8a9a-3186a45f8eda",
   "metadata": {},
   "source": [
    "## 3) Count By Check"
   ]
  },
  {
   "cell_type": "code",
   "execution_count": 10,
   "id": "39c242e2-9247-46d2-89f4-85ce0d930ddd",
   "metadata": {},
   "outputs": [
    {
     "name": "stdout",
     "output_type": "stream",
     "text": [
      "Oops! Looks like your start value is greater than end value.\n"
     ]
    }
   ],
   "source": [
    "# Initialize variables\n",
    "start_num = 13\n",
    "end_num = 11\n",
    "count_by = 1\n",
    "\n",
    "# Initialize break_num with start_num\n",
    "break_num = start_num\n",
    "\n",
    "# Check if start_num is greater than end_num\n",
    "if start_num > end_num:\n",
    "    result = \"Oops! Looks like your start value is greater than end value.\"\n",
    "else:\n",
    "    # Increment break_num until it exceeds end_num\n",
    "    while break_num <= end_num:\n",
    "        break_num += count_by\n",
    "        result = break_num\n",
    "\n",
    "# Print the result (either an error message or the final value)\n",
    "print(result)  # Output: Oops! Looks like your start value is greater than end value."
   ]
  },
  {
   "cell_type": "markdown",
   "id": "90fb8941-c73a-42f8-a941-83de209bd8b4",
   "metadata": {},
   "source": [
    "## 4) Nearest Square"
   ]
  },
  {
   "cell_type": "code",
   "execution_count": 12,
   "id": "65866230-ca5c-43ba-bffb-aec3593a3583",
   "metadata": {},
   "outputs": [
    {
     "name": "stdout",
     "output_type": "stream",
     "text": [
      "36\n"
     ]
    }
   ],
   "source": [
    "# Set the limit for finding the nearest square\n",
    "limit = 40\n",
    "\n",
    "# Initialize a variable to keep track of the current number\n",
    "num = 0\n",
    "\n",
    "# Iterate until the square of (num + 1) is less than the limit\n",
    "while (num + 1) ** 2 < limit:\n",
    "    num += 1\n",
    "\n",
    "# Calculate the nearest square\n",
    "nearest_square = num ** 2\n",
    "\n",
    "# Print the result\n",
    "print(nearest_square)"
   ]
  },
  {
   "cell_type": "markdown",
   "id": "a06d8b98-0987-40fd-971b-2a664af4be73",
   "metadata": {},
   "source": [
    "## Code Block"
   ]
  },
  {
   "cell_type": "code",
   "execution_count": 21,
   "id": "85abe581-3d62-43db-a62c-0d882f20a757",
   "metadata": {},
   "outputs": [
    {
     "name": "stdout",
     "output_type": "stream",
     "text": [
      "Number of odd elements: 5\n",
      "Sum of odd elements: 993\n"
     ]
    }
   ],
   "source": [
    "# Given list of numbers\n",
    "num_list = [422, 136, 524, 85, 96, 719, 85, 92, 10, 17, 312, 542, 87, 23, 86, 191, 116, 35, 173, 45, 149, 59, 84, 69, 113, 166]\n",
    "\n",
    "# Initialize variables to keep track of odd numbers and their sum\n",
    "count_odd = 0\n",
    "list_sum = 0\n",
    "\n",
    "# Initialize an index variable for iterating through the list\n",
    "i = 0\n",
    "\n",
    "# Calculate the length of the list\n",
    "len_num_list = len(num_list)\n",
    "\n",
    "# Iterate through the list\n",
    "while (count_odd < 5) and (i < len_num_list):\n",
    "    # Check if the current number is odd\n",
    "    if num_list[i] % 2 != 0:\n",
    "        # If odd, add it to the sum\n",
    "        list_sum += num_list[i]\n",
    "        # Increment the count of odd numbers\n",
    "        count_odd += 1\n",
    "    # Move to the next element in the list\n",
    "    i += 1\n",
    "\n",
    "# Print the total count of odd numbers and their sum\n",
    "print(\"Number of odd elements:\", count_odd)\n",
    "print(\"Sum of odd elements:\", list_sum)"
   ]
  }
 ],
 "metadata": {
  "kernelspec": {
   "display_name": "example",
   "language": "python",
   "name": "example"
  },
  "language_info": {
   "codemirror_mode": {
    "name": "ipython",
    "version": 3
   },
   "file_extension": ".py",
   "mimetype": "text/x-python",
   "name": "python",
   "nbconvert_exporter": "python",
   "pygments_lexer": "ipython3",
   "version": "3.12.2"
  }
 },
 "nbformat": 4,
 "nbformat_minor": 5
}
