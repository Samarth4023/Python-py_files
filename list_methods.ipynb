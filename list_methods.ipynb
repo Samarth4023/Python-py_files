{
 "cells": [
  {
   "cell_type": "markdown",
   "id": "5c0b539e-578b-484f-9a22-e448df10b6ef",
   "metadata": {},
   "source": [
    "## len()"
   ]
  },
  {
   "cell_type": "code",
   "execution_count": 15,
   "id": "55930419-6f49-4b13-b220-4dd2b377cde9",
   "metadata": {},
   "outputs": [
    {
     "name": "stdout",
     "output_type": "stream",
     "text": [
      "12\n"
     ]
    }
   ],
   "source": [
    "# prints the total number of elements present in the list\n",
    "\n",
    "months = ['Jan','Feb','Mar','Apr','May','Jun','Jul','Aug','Sep','Oct','Nov','Dec']\n",
    "print(len(months))"
   ]
  },
  {
   "cell_type": "markdown",
   "id": "0726e0af-0f0d-4bcb-9f90-742d7430d88e",
   "metadata": {},
   "source": [
    "## max()"
   ]
  },
  {
   "cell_type": "code",
   "execution_count": 19,
   "id": "b7f5e593-9c55-4fe8-9706-0c9ce301dc1a",
   "metadata": {},
   "outputs": [
    {
     "name": "stdout",
     "output_type": "stream",
     "text": [
      "Sep\n",
      "99\n"
     ]
    }
   ],
   "source": [
    "# returns the greatest element of a list\n",
    "\n",
    "months = ['Jan','Feb','Mar','Apr','May','Jun','Jul','Aug','Sep','Oct','Nov','Dec']\n",
    "print(max(months))\n",
    "# in strings, the element that would occur last if the list was sorted alphabetically\n",
    "\n",
    "numbers = [23, 34, 12, 45, 89, 1, 8, 99]\n",
    "print(max(numbers))\n",
    "# prints the largest number if integers"
   ]
  },
  {
   "cell_type": "markdown",
   "id": "03571190-737b-4861-9569-d69bbf211e77",
   "metadata": {},
   "source": [
    "## min()"
   ]
  },
  {
   "cell_type": "code",
   "execution_count": 24,
   "id": "75af706d-4099-4d7f-bd0b-d07d30cbbe86",
   "metadata": {},
   "outputs": [
    {
     "name": "stdout",
     "output_type": "stream",
     "text": [
      "Apr\n",
      "1\n"
     ]
    }
   ],
   "source": [
    "# returns the samllest element of a list\n",
    "\n",
    "months = ['Jan','Feb','Mar','Apr','May','Jun','Jul','Aug','Sep','Oct','Nov','Dec']\n",
    "print(min(months))\n",
    "# in strings, the element that would occur first if the list was sorted alphabetically\n",
    "\n",
    "numbers = [23, 34, 12, 45, 89, 1, 8, 99]\n",
    "print(min(numbers))\n",
    "# prints the smallest number if integers"
   ]
  },
  {
   "cell_type": "markdown",
   "id": "db66d2db-1755-436c-8210-2b2d6a2e9716",
   "metadata": {},
   "source": [
    "## sorted()"
   ]
  },
  {
   "cell_type": "code",
   "execution_count": 28,
   "id": "c9cdf0d4-48a5-4e23-b6cd-e3648019de2d",
   "metadata": {},
   "outputs": [
    {
     "name": "stdout",
     "output_type": "stream",
     "text": [
      "['Apr', 'Aug', 'Dec', 'Feb', 'Jan', 'Jul', 'Jun', 'Mar', 'May', 'Nov', 'Oct', 'Sep']\n",
      "[1, 8, 12, 23, 34, 45, 89, 99]\n"
     ]
    }
   ],
   "source": [
    "# returns a copy of the list in order form samllest to largest leaving the original list unchanged.\n",
    "\n",
    "months = ['Jan','Feb','Mar','Apr','May','Jun','Jul','Aug','Sep','Oct','Nov','Dec']\n",
    "print(sorted(months))\n",
    "# sorts in alphabetical order\n",
    "\n",
    "numbers = [23, 34, 12, 45, 89, 1, 8, 99]\n",
    "print(sorted(numbers))\n",
    "# sorts based on integers"
   ]
  },
  {
   "cell_type": "markdown",
   "id": "9ad82b25-c656-4e82-b4e6-b20a7900ad66",
   "metadata": {},
   "source": [
    "## reverse sorting."
   ]
  },
  {
   "cell_type": "code",
   "execution_count": 39,
   "id": "3f4486ac-1adf-4156-b2cc-cd5089a889f8",
   "metadata": {},
   "outputs": [
    {
     "name": "stdout",
     "output_type": "stream",
     "text": [
      "['Sep', 'Oct', 'Nov', 'May', 'Mar', 'Jun', 'Jul', 'Jan', 'Feb', 'Dec', 'Aug', 'Apr']\n",
      "[99, 89, 45, 34, 23, 12, 8, 1]\n",
      "['Apr', 'Aug', 'Dec', 'Feb', 'Jan', 'Jul', 'Jun', 'Mar', 'May', 'Nov', 'Oct', 'Sep']\n",
      "[1, 8, 12, 23, 34, 45, 89, 99]\n"
     ]
    }
   ],
   "source": [
    "# returns a copy of the list in order form largest to smallest leaving the original list unchanged.\n",
    "\n",
    "#--------------------------------TRUE--------------------------------\n",
    "months = ['Jan','Feb','Mar','Apr','May','Jun','Jul','Aug','Sep','Oct','Nov','Dec']\n",
    "print(sorted(months, reverse = True))\n",
    "\n",
    "numbers = [23, 34, 12, 45, 89, 1, 8, 99]\n",
    "print(sorted(numbers, reverse = True))\n",
    "\n",
    "#--------------------------------FALSE--------------------------------\n",
    "\n",
    "months = ['Jan','Feb','Mar','Apr','May','Jun','Jul','Aug','Sep','Oct','Nov','Dec']\n",
    "print(sorted(months, reverse = False))\n",
    "\n",
    "numbers = [23, 34, 12, 45, 89, 1, 8, 99]\n",
    "print(sorted(numbers, reverse = False))"
   ]
  },
  {
   "cell_type": "code",
   "execution_count": null,
   "id": "a64369bb-08f7-469f-bec5-c491c7ab374c",
   "metadata": {},
   "outputs": [],
   "source": []
  }
 ],
 "metadata": {
  "kernelspec": {
   "display_name": "example",
   "language": "python",
   "name": "example"
  },
  "language_info": {
   "codemirror_mode": {
    "name": "ipython",
    "version": 3
   },
   "file_extension": ".py",
   "mimetype": "text/x-python",
   "name": "python",
   "nbconvert_exporter": "python",
   "pygments_lexer": "ipython3",
   "version": "3.12.2"
  }
 },
 "nbformat": 4,
 "nbformat_minor": 5
}
