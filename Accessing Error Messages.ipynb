{
 "cells": [
  {
   "cell_type": "markdown",
   "id": "a7ada90d-95d5-4241-8d0c-866a667b953a",
   "metadata": {},
   "source": [
    "# Specific Errors\n",
    "## ZeroDivisionError occurred: integer division or modulo by zero"
   ]
  },
  {
   "cell_type": "code",
   "execution_count": 1,
   "id": "7351890a-92b6-4ab3-bf7a-bc6539d13399",
   "metadata": {},
   "outputs": [
    {
     "name": "stdin",
     "output_type": "stream",
     "text": [
      "How many cookies are you baking?  8\n",
      "How many people are attending?  3\n"
     ]
    },
    {
     "name": "stdout",
     "output_type": "stream",
     "text": [
      "\n",
      "Let's party! We'll have 3 people attending, they'll each get to eat 2 cookies, and we'll have 2 left over.\n"
     ]
    },
    {
     "name": "stdin",
     "output_type": "stream",
     "text": [
      "\n",
      "Would you like to party more? (y or n)  y\n",
      "How many cookies are you baking?  8\n",
      "How many people are attending?  0\n"
     ]
    },
    {
     "name": "stdout",
     "output_type": "stream",
     "text": [
      "ZeroDivisionError occurred: integer division or modulo by zero\n"
     ]
    },
    {
     "name": "stdin",
     "output_type": "stream",
     "text": [
      "\n",
      "Would you like to party more? (y or n)  n\n"
     ]
    }
   ],
   "source": [
    "# Define a function called \"party_planner\" to calculate cookie distribution\n",
    "def party_planner(cookies, people):\n",
    "    # Initialize variables for leftovers and cookies per person\n",
    "    leftovers = None\n",
    "    num_each = None\n",
    "\n",
    "    try:\n",
    "        # Calculate the number of cookies each person will get\n",
    "        num_each = cookies // people\n",
    "        # Calculate the remaining cookies (leftovers)\n",
    "        leftovers = cookies % people\n",
    "    except ZeroDivisionError as e:\n",
    "        # Handle the case when the number of people is zero\n",
    "        print(\"ZeroDivisionError occurred: {}\".format(e))\n",
    "\n",
    "    # Return the results\n",
    "    return num_each, leftovers\n",
    "\n",
    "# Initialize a flag for party continuation\n",
    "lets_party = 'y'\n",
    "\n",
    "# Continue party planning until the user decides to stop\n",
    "while lets_party == 'y':\n",
    "    # Get input from the user: number of cookies and number of people\n",
    "    cookies = int(input(\"How many cookies are you baking? \"))\n",
    "    people = int(input(\"How many people are attending? \"))\n",
    "\n",
    "    # Calculate cookie distribution using the party_planner function\n",
    "    cookies_each, leftovers = party_planner(cookies, people)\n",
    "\n",
    "    if cookies_each:  # If cookies_each is not None (i.e., people > 0)\n",
    "        # Print the party details\n",
    "        message = \"\\nLet's party! We'll have {} people attending, they'll each get to eat {} cookies, and we'll have {} left over.\"\n",
    "        print(message.format(people, cookies_each, leftovers))\n",
    "\n",
    "    # Ask if the user wants to continue party planning\n",
    "    lets_party = input(\"\\nWould you like to party more? (y or n) \")"
   ]
  },
  {
   "cell_type": "markdown",
   "id": "aaaa4f46-3f5f-4245-b5c6-aa400c548d1f",
   "metadata": {},
   "source": [
    "# No Specific Errors\n",
    "## except Exception as e:"
   ]
  },
  {
   "cell_type": "code",
   "execution_count": 3,
   "id": "2c45c8e0-c0b4-4091-a790-fe809f3dbb2b",
   "metadata": {},
   "outputs": [
    {
     "name": "stdin",
     "output_type": "stream",
     "text": [
      "How many cookies are you baking?  8\n",
      "How many people are attending?  3\n"
     ]
    },
    {
     "name": "stdout",
     "output_type": "stream",
     "text": [
      "\n",
      "Let's party! We'll have 3 people attending, they'll each get to eat 2 cookies, and we'll have 2 left over.\n"
     ]
    },
    {
     "name": "stdin",
     "output_type": "stream",
     "text": [
      "\n",
      "Would you like to party more? (y or n)  y\n",
      "How many cookies are you baking?  8\n",
      "How many people are attending?  0\n"
     ]
    },
    {
     "name": "stdout",
     "output_type": "stream",
     "text": [
      "Exception occurred: integer division or modulo by zero\n"
     ]
    },
    {
     "name": "stdin",
     "output_type": "stream",
     "text": [
      "\n",
      "Would you like to party more? (y or n)  y\n",
      "How many cookies are you baking?  0\n",
      "How many people are attending?  3\n",
      "\n",
      "Would you like to party more? (y or n)  n\n"
     ]
    }
   ],
   "source": [
    "# Define a function called \"party_planner\" to calculate cookie distribution\n",
    "def party_planner(cookies, people):\n",
    "    # Initialize variables for leftovers and cookies per person\n",
    "    leftovers = None\n",
    "    num_each = None\n",
    "\n",
    "    try:\n",
    "        # Calculate the number of cookies each person will get\n",
    "        num_each = cookies // people\n",
    "        # Calculate the remaining cookies (leftovers)\n",
    "        leftovers = cookies % people\n",
    "    except Exception as e:\n",
    "        print(\"Exception occurred: {}\".format(e))\n",
    "\n",
    "    # Return the results\n",
    "    return num_each, leftovers\n",
    "\n",
    "# Initialize a flag for party continuation\n",
    "lets_party = 'y'\n",
    "\n",
    "# Continue party planning until the user decides to stop\n",
    "while lets_party == 'y':\n",
    "    # Get input from the user: number of cookies and number of people\n",
    "    cookies = int(input(\"How many cookies are you baking? \"))\n",
    "    people = int(input(\"How many people are attending? \"))\n",
    "\n",
    "    # Calculate cookie distribution using the party_planner function\n",
    "    cookies_each, leftovers = party_planner(cookies, people)\n",
    "\n",
    "    if cookies_each:  # If cookies_each is not None (i.e., people > 0)\n",
    "        # Print the party details\n",
    "        message = \"\\nLet's party! We'll have {} people attending, they'll each get to eat {} cookies, and we'll have {} left over.\"\n",
    "        print(message.format(people, cookies_each, leftovers))\n",
    "\n",
    "    # Ask if the user wants to continue party planning\n",
    "    lets_party = input(\"\\nWould you like to party more? (y or n) \")"
   ]
  }
 ],
 "metadata": {
  "kernelspec": {
   "display_name": "example",
   "language": "python",
   "name": "example"
  },
  "language_info": {
   "codemirror_mode": {
    "name": "ipython",
    "version": 3
   },
   "file_extension": ".py",
   "mimetype": "text/x-python",
   "name": "python",
   "nbconvert_exporter": "python",
   "pygments_lexer": "ipython3",
   "version": "3.12.2"
  }
 },
 "nbformat": 4,
 "nbformat_minor": 5
}
