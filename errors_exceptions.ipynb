{
 "cells": [
  {
   "cell_type": "markdown",
   "id": "fc3f185b-5669-4416-bd82-3801fdb6b107",
   "metadata": {
    "jp-MarkdownHeadingCollapsed": true
   },
   "source": [
    "# Syntax Errors\n",
    "### It occurs when python can't interpret our code, since we didn't follow the current syntax for python. These are errors you're likely to get when you make a typo, or you're first starting to learn Python."
   ]
  },
  {
   "cell_type": "markdown",
   "id": "16431b36-2f46-4eb1-be88-b1b71805a23a",
   "metadata": {},
   "source": [
    "# Exceptions\n",
    "### It occurs when unexpected things happen during execution of a program, even if the code is syntactically correct. There are different types of built-in exceptions in python, and you can see which exception is thrown in the error message."
   ]
  },
  {
   "cell_type": "markdown",
   "id": "a33523db-2552-49c6-8043-e6f7e45cac2b",
   "metadata": {},
   "source": [
    "# ValueError Exception\n",
    "### It occurs when a built-in operation or function is given in argument with the correct type but an inappropriate value."
   ]
  },
  {
   "cell_type": "code",
   "execution_count": 1,
   "id": "b51e1215-371d-414b-a82f-ecbb6fc69d6f",
   "metadata": {},
   "outputs": [
    {
     "name": "stdin",
     "output_type": "stream",
     "text": [
      "Enter a Number:  ten\n"
     ]
    },
    {
     "ename": "ValueError",
     "evalue": "invalid literal for int() with base 10: 'ten'",
     "output_type": "error",
     "traceback": [
      "\u001b[1;31m---------------------------------------------------------------------------\u001b[0m",
      "\u001b[1;31mValueError\u001b[0m                                Traceback (most recent call last)",
      "Cell \u001b[1;32mIn[1], line 1\u001b[0m\n\u001b[1;32m----> 1\u001b[0m x \u001b[38;5;241m=\u001b[39m \u001b[38;5;28mint\u001b[39m(\u001b[38;5;28minput\u001b[39m(\u001b[38;5;124m\"\u001b[39m\u001b[38;5;124mEnter a Number: \u001b[39m\u001b[38;5;124m\"\u001b[39m))\n\u001b[0;32m      2\u001b[0m x \u001b[38;5;241m+\u001b[39m\u001b[38;5;241m=\u001b[39m \u001b[38;5;241m20\u001b[39m\n\u001b[0;32m      3\u001b[0m \u001b[38;5;28mprint\u001b[39m(x)\n",
      "\u001b[1;31mValueError\u001b[0m: invalid literal for int() with base 10: 'ten'"
     ]
    }
   ],
   "source": [
    "x = int(input(\"Enter a Number: \"))\n",
    "x += 20\n",
    "print(x)"
   ]
  },
  {
   "cell_type": "markdown",
   "id": "87ce8c84-389f-4f6f-b174-88a62728ed4e",
   "metadata": {},
   "source": [
    "# NameError Exception\n",
    "### It occurs when it can't find the value for this variable when it tries to run it."
   ]
  },
  {
   "cell_type": "code",
   "execution_count": 3,
   "id": "ab213ab9-2a2d-4339-be76-4ada854637d2",
   "metadata": {},
   "outputs": [
    {
     "ename": "NameError",
     "evalue": "name 'nonexistent_variable' is not defined",
     "output_type": "error",
     "traceback": [
      "\u001b[1;31m---------------------------------------------------------------------------\u001b[0m",
      "\u001b[1;31mNameError\u001b[0m                                 Traceback (most recent call last)",
      "Cell \u001b[1;32mIn[3], line 1\u001b[0m\n\u001b[1;32m----> 1\u001b[0m \u001b[38;5;28mprint\u001b[39m(nonexistent_variable)\n",
      "\u001b[1;31mNameError\u001b[0m: name 'nonexistent_variable' is not defined"
     ]
    }
   ],
   "source": [
    "print(nonexistent_variable)"
   ]
  },
  {
   "cell_type": "markdown",
   "id": "8a157314-2c19-44ea-8ba2-ed1ca72428fa",
   "metadata": {},
   "source": [
    "# Assertion Error\n",
    "### An assert statement fails."
   ]
  },
  {
   "cell_type": "code",
   "execution_count": 2,
   "id": "d7991826-bf78-4201-b17e-bfc8dad7fa05",
   "metadata": {},
   "outputs": [
    {
     "ename": "AssertionError",
     "evalue": "Invalid Operation",
     "output_type": "error",
     "traceback": [
      "\u001b[1;31m---------------------------------------------------------------------------\u001b[0m",
      "\u001b[1;31mAssertionError\u001b[0m                            Traceback (most recent call last)",
      "Cell \u001b[1;32mIn[2], line 4\u001b[0m\n\u001b[0;32m      2\u001b[0m x \u001b[38;5;241m=\u001b[39m \u001b[38;5;241m1\u001b[39m\n\u001b[0;32m      3\u001b[0m y \u001b[38;5;241m=\u001b[39m \u001b[38;5;241m0\u001b[39m\n\u001b[1;32m----> 4\u001b[0m \u001b[38;5;28;01massert\u001b[39;00m y \u001b[38;5;241m!=\u001b[39m \u001b[38;5;241m0\u001b[39m, \u001b[38;5;124m\"\u001b[39m\u001b[38;5;124mInvalid Operation\u001b[39m\u001b[38;5;124m\"\u001b[39m \u001b[38;5;66;03m# denominator can't be 0\u001b[39;00m\n\u001b[0;32m      5\u001b[0m \u001b[38;5;28mprint\u001b[39m(x \u001b[38;5;241m/\u001b[39m y)\n",
      "\u001b[1;31mAssertionError\u001b[0m: Invalid Operation"
     ]
    }
   ],
   "source": [
    "# AssertionError with error_message.\n",
    "x = 1\n",
    "y = 0\n",
    "assert y != 0, \"Invalid Operation\" # denominator can't be 0\n",
    "print(x / y)"
   ]
  },
  {
   "cell_type": "markdown",
   "id": "495e22de-9c11-4c36-8f85-623c867256f3",
   "metadata": {},
   "source": [
    "# Index Error\n",
    "### A sequence subscript is out of range."
   ]
  },
  {
   "cell_type": "code",
   "execution_count": 4,
   "id": "3b65e45d-91e5-476e-83c9-c5aed9851a9f",
   "metadata": {},
   "outputs": [
    {
     "ename": "IndexError",
     "evalue": "list index out of range",
     "output_type": "error",
     "traceback": [
      "\u001b[1;31m---------------------------------------------------------------------------\u001b[0m",
      "\u001b[1;31mIndexError\u001b[0m                                Traceback (most recent call last)",
      "Cell \u001b[1;32mIn[4], line 2\u001b[0m\n\u001b[0;32m      1\u001b[0m j \u001b[38;5;241m=\u001b[39m [\u001b[38;5;241m1\u001b[39m, \u001b[38;5;241m2\u001b[39m, \u001b[38;5;241m4\u001b[39m]\n\u001b[1;32m----> 2\u001b[0m \u001b[38;5;28mprint\u001b[39m(j[\u001b[38;5;241m4\u001b[39m])\n",
      "\u001b[1;31mIndexError\u001b[0m: list index out of range"
     ]
    }
   ],
   "source": [
    "j = [1, 2, 4]\n",
    "print(j[4])"
   ]
  },
  {
   "cell_type": "markdown",
   "id": "fa465946-7875-4ab4-b469-cc8487606ddd",
   "metadata": {},
   "source": [
    "# Key Error\n",
    "### A key can't be found in a dictionary."
   ]
  },
  {
   "cell_type": "code",
   "execution_count": 6,
   "id": "9a0bb268-6e09-4014-98d5-b6f9e1c0523c",
   "metadata": {},
   "outputs": [
    {
     "ename": "KeyError",
     "evalue": "'Fharan'",
     "output_type": "error",
     "traceback": [
      "\u001b[1;31m---------------------------------------------------------------------------\u001b[0m",
      "\u001b[1;31mKeyError\u001b[0m                                  Traceback (most recent call last)",
      "Cell \u001b[1;32mIn[6], line 8\u001b[0m\n\u001b[0;32m      2\u001b[0m subjects \u001b[38;5;241m=\u001b[39m {\u001b[38;5;124m'\u001b[39m\u001b[38;5;124mSree\u001b[39m\u001b[38;5;124m'\u001b[39m: \u001b[38;5;124m'\u001b[39m\u001b[38;5;124mMaths\u001b[39m\u001b[38;5;124m'\u001b[39m, \n\u001b[0;32m      3\u001b[0m \t\t\t\u001b[38;5;124m'\u001b[39m\u001b[38;5;124mRam\u001b[39m\u001b[38;5;124m'\u001b[39m: \u001b[38;5;124m'\u001b[39m\u001b[38;5;124mBiology\u001b[39m\u001b[38;5;124m'\u001b[39m, \n\u001b[0;32m      4\u001b[0m \t\t\t\u001b[38;5;124m'\u001b[39m\u001b[38;5;124mShyam\u001b[39m\u001b[38;5;124m'\u001b[39m: \u001b[38;5;124m'\u001b[39m\u001b[38;5;124mScience\u001b[39m\u001b[38;5;124m'\u001b[39m, \n\u001b[0;32m      5\u001b[0m \t\t\t\u001b[38;5;124m'\u001b[39m\u001b[38;5;124mAbdul\u001b[39m\u001b[38;5;124m'\u001b[39m: \u001b[38;5;124m'\u001b[39m\u001b[38;5;124mHindi\u001b[39m\u001b[38;5;124m'\u001b[39m} \n\u001b[0;32m      7\u001b[0m \u001b[38;5;66;03m# Printing the subject of Fharan \u001b[39;00m\n\u001b[1;32m----> 8\u001b[0m \u001b[38;5;28mprint\u001b[39m(subjects[\u001b[38;5;124m'\u001b[39m\u001b[38;5;124mFharan\u001b[39m\u001b[38;5;124m'\u001b[39m])\n",
      "\u001b[1;31mKeyError\u001b[0m: 'Fharan'"
     ]
    }
   ],
   "source": [
    "# Creating a Dictionary \n",
    "subjects = {'Sree': 'Maths', \n",
    "\t\t\t'Ram': 'Biology', \n",
    "\t\t\t'Shyam': 'Science', \n",
    "\t\t\t'Abdul': 'Hindi'} \n",
    "\n",
    "# Printing the subject of Fharan \n",
    "print(subjects['Fharan']) "
   ]
  },
  {
   "cell_type": "markdown",
   "id": "209af3f8-ce91-486e-b66c-c1b0735860b9",
   "metadata": {},
   "source": [
    "# Type Error\n",
    "### An object of an unsupported type is passed as input to an operation or function."
   ]
  },
  {
   "cell_type": "code",
   "execution_count": 18,
   "id": "d63f8d96-732a-44e3-ae9f-2a6be8fba04f",
   "metadata": {},
   "outputs": [
    {
     "ename": "TypeError",
     "evalue": "can only concatenate str (not \"int\") to str",
     "output_type": "error",
     "traceback": [
      "\u001b[1;31m---------------------------------------------------------------------------\u001b[0m",
      "\u001b[1;31mTypeError\u001b[0m                                 Traceback (most recent call last)",
      "Cell \u001b[1;32mIn[18], line 3\u001b[0m\n\u001b[0;32m      1\u001b[0m string \u001b[38;5;241m=\u001b[39m \u001b[38;5;124m\"\u001b[39m\u001b[38;5;124mdams\u001b[39m\u001b[38;5;124m\"\u001b[39m\n\u001b[0;32m      2\u001b[0m num \u001b[38;5;241m=\u001b[39m \u001b[38;5;241m4\u001b[39m\n\u001b[1;32m----> 3\u001b[0m \u001b[38;5;28mprint\u001b[39m(string \u001b[38;5;241m+\u001b[39m num \u001b[38;5;241m+\u001b[39m string)\n",
      "\u001b[1;31mTypeError\u001b[0m: can only concatenate str (not \"int\") to str"
     ]
    }
   ],
   "source": [
    "string = \"dams\"\n",
    "num = 4\n",
    "print(string + num + string)"
   ]
  }
 ],
 "metadata": {
  "kernelspec": {
   "display_name": "example",
   "language": "python",
   "name": "example"
  },
  "language_info": {
   "codemirror_mode": {
    "name": "ipython",
    "version": 3
   },
   "file_extension": ".py",
   "mimetype": "text/x-python",
   "name": "python",
   "nbconvert_exporter": "python",
   "pygments_lexer": "ipython3",
   "version": "3.12.2"
  }
 },
 "nbformat": 4,
 "nbformat_minor": 5
}
