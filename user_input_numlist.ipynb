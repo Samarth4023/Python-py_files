{
 "cells": [
  {
   "cell_type": "markdown",
   "id": "0176ae9b-9631-44ab-9d41-e9197f19899e",
   "metadata": {},
   "source": [
    "# Quiz: Practice Debugging"
   ]
  },
  {
   "cell_type": "code",
   "execution_count": 1,
   "id": "d91d8039-9290-4b7f-97da-03b0388b452f",
   "metadata": {},
   "outputs": [
    {
     "name": "stdin",
     "output_type": "stream",
     "text": [
      "Enter any 2-digit number:  13\n",
      "Enter any 2-digit number:  23\n",
      "Enter any 2-digit number:  22\n",
      "Enter any 2-digit number:  24\n",
      "Enter any 2-digit number:  26\n",
      "Enter any 2-digit number:  53\n",
      "Enter any 2-digit number:  55\n",
      "Enter any 2-digit number:  87\n",
      "Enter any 2-digit number:  88\n",
      "Enter any 2-digit number:  89\n"
     ]
    },
    {
     "name": "stdout",
     "output_type": "stream",
     "text": [
      "user_list: [13, 23, 22, 24, 26, 53, 55, 87, 88, 89]\n",
      "The sum of the even numbers in user_list is: 160.\n"
     ]
    }
   ],
   "source": [
    "# initiate empty list to hold user input and sum value of zero\n",
    "user_list = []\n",
    "list_sum = 0\n",
    "\n",
    "# seek user input for ten numbers \n",
    "for i in range(10):\n",
    "    userInput = int(input(\"Enter any 2-digit number: \"))\n",
    "    \n",
    "# check to see if number is even and if yes, add to list_sum\n",
    "# print incorrect value warning  when ValueError exception occurs\n",
    "    try:\n",
    "        number = userInput\n",
    "        user_list.append(number)\n",
    "        if number % 2 == 0:\n",
    "            list_sum += number\n",
    "    except ValueError:\n",
    "        print(\"Incorrect value. That's not an int!\")\n",
    "\n",
    "print(\"user_list: {}\".format(user_list))\n",
    "print(\"The sum of the even numbers in user_list is: {}.\".format(list_sum))"
   ]
  },
  {
   "cell_type": "code",
   "execution_count": null,
   "id": "ddce3752-cd48-40e0-9689-418a16bbf14a",
   "metadata": {},
   "outputs": [],
   "source": []
  }
 ],
 "metadata": {
  "kernelspec": {
   "display_name": "example",
   "language": "python",
   "name": "example"
  },
  "language_info": {
   "codemirror_mode": {
    "name": "ipython",
    "version": 3
   },
   "file_extension": ".py",
   "mimetype": "text/x-python",
   "name": "python",
   "nbconvert_exporter": "python",
   "pygments_lexer": "ipython3",
   "version": "3.12.2"
  }
 },
 "nbformat": 4,
 "nbformat_minor": 5
}
