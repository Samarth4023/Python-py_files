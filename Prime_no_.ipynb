{
 "cells": [
  {
   "cell_type": "markdown",
   "id": "f9497a92-74c3-432b-a8b2-ba72ab2615f3",
   "metadata": {},
   "source": [
    "# Prime Number"
   ]
  },
  {
   "cell_type": "code",
   "execution_count": 34,
   "id": "fb0d5aee-edef-4175-8156-d926d21e36c8",
   "metadata": {},
   "outputs": [
    {
     "name": "stdout",
     "output_type": "stream",
     "text": [
      "26 is not a prime number because 2 is a factor of 26\n",
      "39 is not a prime number because 3 is a factor of 39\n",
      "51 is not a prime number because 3 is a factor of 51\n",
      "53 is a prime number\n",
      "57 is not a prime number because 3 is a factor of 57\n",
      "79 is a prime number\n",
      "85 is not a prime number because 5 is a factor of 85\n"
     ]
    }
   ],
   "source": [
    "# List of numbers to check for primality\n",
    "check_prime = [26, 39, 51, 53, 57, 79, 85]\n",
    "\n",
    "# Loop through each number in the list\n",
    "for prime in check_prime:\n",
    "    # Check divisors from 2 to one less than the number\n",
    "    for i in range(2, prime):\n",
    "        # If the number is divisible by i, it's not a prime number\n",
    "        if prime % i == 0:\n",
    "            result = '{} is not a prime number because {} is a factor of {}'.format(prime, i, prime)\n",
    "            break\n",
    "        # If no divisors found, the number is a prime number\n",
    "        if i == prime - 1:\n",
    "            result = '{} is a prime number'.format(prime)\n",
    "    # Print the result for the current number\n",
    "    print(result)"
   ]
  }
 ],
 "metadata": {
  "kernelspec": {
   "display_name": "example",
   "language": "python",
   "name": "example"
  },
  "language_info": {
   "codemirror_mode": {
    "name": "ipython",
    "version": 3
   },
   "file_extension": ".py",
   "mimetype": "text/x-python",
   "name": "python",
   "nbconvert_exporter": "python",
   "pygments_lexer": "ipython3",
   "version": "3.12.2"
  }
 },
 "nbformat": 4,
 "nbformat_minor": 5
}
