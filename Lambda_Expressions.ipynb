{
 "cells": [
  {
   "cell_type": "markdown",
   "id": "556a28c4-82d5-4014-ad2f-08a1903e096a",
   "metadata": {},
   "source": [
    "# Lambda Expressions\n",
    "### - Expression used to create on anonymous function (i.e., functions that don't have a name)"
   ]
  },
  {
   "cell_type": "markdown",
   "id": "0c563951-20da-4382-970e-ad854c1abde8",
   "metadata": {},
   "source": [
    "## Example\n",
    "### - Regular Function"
   ]
  },
  {
   "cell_type": "code",
   "execution_count": 14,
   "id": "bfcb0360-f57d-4502-a327-d84014af0e65",
   "metadata": {},
   "outputs": [],
   "source": [
    "def double(x):\n",
    "    return x * 2"
   ]
  },
  {
   "cell_type": "markdown",
   "id": "27961af8-46a6-4055-b3ec-9156968b7627",
   "metadata": {},
   "source": [
    "### - Equivalent Lambda Expression"
   ]
  },
  {
   "cell_type": "code",
   "execution_count": 28,
   "id": "0454d02e-d9eb-4d47-92c5-1404fc01d0c9",
   "metadata": {},
   "outputs": [
    {
     "data": {
      "text/plain": [
       "6"
      ]
     },
     "execution_count": 28,
     "metadata": {},
     "output_type": "execute_result"
    }
   ],
   "source": [
    "double = lambda num: num * 2\n",
    "double = lambda x: x * 2      # lambda ----> keyword     \n",
    "# x ----> following lambda or one or more arguments for the anonymous function and then a colon\n",
    "\n",
    "double(3)\n",
    "\n",
    "# lambda x, y: x * y (remove comment for test purposes)"
   ]
  },
  {
   "cell_type": "markdown",
   "id": "2a97a0c2-7744-408f-9166-57e53be78f42",
   "metadata": {},
   "source": [
    "# Lambda with Map\n",
    "### - map() is a higher-order built-in function that makes a function and iterable as inputs and returns an iterator that applies the function to each element of the iterable."
   ]
  },
  {
   "cell_type": "code",
   "execution_count": 36,
   "id": "f829d4a6-2cf2-4db2-bd91-0ce78744b5ce",
   "metadata": {},
   "outputs": [
    {
     "name": "stdout",
     "output_type": "stream",
     "text": [
      "[57.0, 58.2, 50.6, 27.2]\n"
     ]
    }
   ],
   "source": [
    "# Given a list of lists containing numbers\n",
    "numbers = [\n",
    "    [34, 63, 88, 71, 29],\n",
    "    [90, 78, 51, 27, 45],\n",
    "    [63, 37, 85, 46, 22],\n",
    "    [51, 22, 34, 11, 18]\n",
    "]\n",
    "\n",
    "# Use the map() function with a lambda expression to calculate the average for each sublist\n",
    "averages = list(map(lambda x: sum(x) / len(x), numbers))\n",
    "\n",
    "# Print the resulting list of averages\n",
    "print(averages)"
   ]
  },
  {
   "cell_type": "markdown",
   "id": "af06e750-3d38-4aa0-acd0-42cda26795a7",
   "metadata": {},
   "source": [
    "# Lambda with Filter\n",
    "### - filter() is a higher-order built-in function that takes a function and iterable as inputs and returns an itertor with the elements from the iterable for which the function returns True."
   ]
  },
  {
   "cell_type": "code",
   "execution_count": 34,
   "id": "513431d3-a580-452a-a67e-2eaba4af0c78",
   "metadata": {},
   "outputs": [
    {
     "name": "stdout",
     "output_type": "stream",
     "text": [
      "['Chicago', 'Denver', 'Boston']\n"
     ]
    }
   ],
   "source": [
    "# Given a list of cities\n",
    "cities = [\"New York City\", \"Los Angeles\", \"Chicago\", \"Mountain View\", \"Denver\", \"Boston\"]\n",
    "\n",
    "# Use the filter() function with a lambda expression to filter cities with names shorter than 10 characters\n",
    "short_cities = list(filter(lambda x: len(x) < 10, cities))\n",
    "\n",
    "# Print the resulting list of short cities\n",
    "print(short_cities)"
   ]
  }
 ],
 "metadata": {
  "kernelspec": {
   "display_name": "example",
   "language": "python",
   "name": "example"
  },
  "language_info": {
   "codemirror_mode": {
    "name": "ipython",
    "version": 3
   },
   "file_extension": ".py",
   "mimetype": "text/x-python",
   "name": "python",
   "nbconvert_exporter": "python",
   "pygments_lexer": "ipython3",
   "version": "3.12.2"
  }
 },
 "nbformat": 4,
 "nbformat_minor": 5
}
